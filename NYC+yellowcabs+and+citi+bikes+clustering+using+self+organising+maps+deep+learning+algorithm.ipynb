{
 "cells": [
  {
   "cell_type": "code",
   "execution_count": 59,
   "metadata": {
    "collapsed": true
   },
   "outputs": [],
   "source": [
    "import numpy as np\n",
    "import pandas as pd"
   ]
  },
  {
   "cell_type": "markdown",
   "metadata": {},
   "source": [
    "reading the datasets"
   ]
  },
  {
   "cell_type": "code",
   "execution_count": 221,
   "metadata": {
    "collapsed": true
   },
   "outputs": [],
   "source": [
    "bike=pd.read_csv(\"bike.csv\")\n",
    "\n",
    "cab=pd.read_csv(\"yellow_raw.csv\")"
   ]
  },
  {
   "cell_type": "code",
   "execution_count": 62,
   "metadata": {},
   "outputs": [
    {
     "data": {
      "text/html": [
       "<div>\n",
       "<style>\n",
       "    .dataframe thead tr:only-child th {\n",
       "        text-align: right;\n",
       "    }\n",
       "\n",
       "    .dataframe thead th {\n",
       "        text-align: left;\n",
       "    }\n",
       "\n",
       "    .dataframe tbody tr th {\n",
       "        vertical-align: top;\n",
       "    }\n",
       "</style>\n",
       "<table border=\"1\" class=\"dataframe\">\n",
       "  <thead>\n",
       "    <tr style=\"text-align: right;\">\n",
       "      <th></th>\n",
       "      <th>Unnamed: 0</th>\n",
       "      <th>duration</th>\n",
       "      <th>pick_sid</th>\n",
       "      <th>pick_sname</th>\n",
       "      <th>pick_blat</th>\n",
       "      <th>pick_blong</th>\n",
       "      <th>drop_sid</th>\n",
       "      <th>drop_sname</th>\n",
       "      <th>drop_blat</th>\n",
       "      <th>drop_blong</th>\n",
       "      <th>user_type</th>\n",
       "      <th>pick_btime</th>\n",
       "      <th>drop_btime</th>\n",
       "      <th>pick_bdate</th>\n",
       "      <th>drop_bdate</th>\n",
       "    </tr>\n",
       "  </thead>\n",
       "  <tbody>\n",
       "    <tr>\n",
       "      <th>0</th>\n",
       "      <td>0</td>\n",
       "      <td>538</td>\n",
       "      <td>536</td>\n",
       "      <td>1 Ave &amp; E 30 St</td>\n",
       "      <td>40.741444</td>\n",
       "      <td>-73.975361</td>\n",
       "      <td>497</td>\n",
       "      <td>E 17 St &amp; Broadway</td>\n",
       "      <td>40.737050</td>\n",
       "      <td>-73.990093</td>\n",
       "      <td>Subscriber</td>\n",
       "      <td>00:00:03</td>\n",
       "      <td>00:09:02</td>\n",
       "      <td>5/1/2016</td>\n",
       "      <td>5/1/2016</td>\n",
       "    </tr>\n",
       "    <tr>\n",
       "      <th>1</th>\n",
       "      <td>1</td>\n",
       "      <td>224</td>\n",
       "      <td>361</td>\n",
       "      <td>Allen St &amp; Hester St</td>\n",
       "      <td>40.716059</td>\n",
       "      <td>-73.991908</td>\n",
       "      <td>340</td>\n",
       "      <td>Madison St &amp; Clinton St</td>\n",
       "      <td>40.712690</td>\n",
       "      <td>-73.987763</td>\n",
       "      <td>Subscriber</td>\n",
       "      <td>00:00:04</td>\n",
       "      <td>00:03:49</td>\n",
       "      <td>5/1/2016</td>\n",
       "      <td>5/1/2016</td>\n",
       "    </tr>\n",
       "    <tr>\n",
       "      <th>2</th>\n",
       "      <td>2</td>\n",
       "      <td>328</td>\n",
       "      <td>301</td>\n",
       "      <td>E 2 St &amp; Avenue B</td>\n",
       "      <td>40.722174</td>\n",
       "      <td>-73.983688</td>\n",
       "      <td>311</td>\n",
       "      <td>Norfolk St &amp; Broome St</td>\n",
       "      <td>40.717227</td>\n",
       "      <td>-73.988021</td>\n",
       "      <td>Subscriber</td>\n",
       "      <td>00:00:14</td>\n",
       "      <td>00:05:43</td>\n",
       "      <td>5/1/2016</td>\n",
       "      <td>5/1/2016</td>\n",
       "    </tr>\n",
       "    <tr>\n",
       "      <th>3</th>\n",
       "      <td>3</td>\n",
       "      <td>1196</td>\n",
       "      <td>3141</td>\n",
       "      <td>1 Ave &amp; E 68 St</td>\n",
       "      <td>40.765005</td>\n",
       "      <td>-73.958185</td>\n",
       "      <td>237</td>\n",
       "      <td>E 11 St &amp; 2 Ave</td>\n",
       "      <td>40.730473</td>\n",
       "      <td>-73.986724</td>\n",
       "      <td>Customer</td>\n",
       "      <td>00:00:20</td>\n",
       "      <td>00:20:17</td>\n",
       "      <td>5/1/2016</td>\n",
       "      <td>5/1/2016</td>\n",
       "    </tr>\n",
       "    <tr>\n",
       "      <th>4</th>\n",
       "      <td>4</td>\n",
       "      <td>753</td>\n",
       "      <td>492</td>\n",
       "      <td>W 33 St &amp; 7 Ave</td>\n",
       "      <td>40.750200</td>\n",
       "      <td>-73.990931</td>\n",
       "      <td>228</td>\n",
       "      <td>E 48 St &amp; 3 Ave</td>\n",
       "      <td>40.754601</td>\n",
       "      <td>-73.971879</td>\n",
       "      <td>Subscriber</td>\n",
       "      <td>00:00:26</td>\n",
       "      <td>00:13:00</td>\n",
       "      <td>5/1/2016</td>\n",
       "      <td>5/1/2016</td>\n",
       "    </tr>\n",
       "  </tbody>\n",
       "</table>\n",
       "</div>"
      ],
      "text/plain": [
       "   Unnamed: 0  duration  pick_sid            pick_sname  pick_blat  \\\n",
       "0           0       538       536       1 Ave & E 30 St  40.741444   \n",
       "1           1       224       361  Allen St & Hester St  40.716059   \n",
       "2           2       328       301     E 2 St & Avenue B  40.722174   \n",
       "3           3      1196      3141       1 Ave & E 68 St  40.765005   \n",
       "4           4       753       492       W 33 St & 7 Ave  40.750200   \n",
       "\n",
       "   pick_blong  drop_sid               drop_sname  drop_blat  drop_blong  \\\n",
       "0  -73.975361       497       E 17 St & Broadway  40.737050  -73.990093   \n",
       "1  -73.991908       340  Madison St & Clinton St  40.712690  -73.987763   \n",
       "2  -73.983688       311   Norfolk St & Broome St  40.717227  -73.988021   \n",
       "3  -73.958185       237          E 11 St & 2 Ave  40.730473  -73.986724   \n",
       "4  -73.990931       228          E 48 St & 3 Ave  40.754601  -73.971879   \n",
       "\n",
       "    user_type pick_btime drop_btime pick_bdate drop_bdate  \n",
       "0  Subscriber   00:00:03   00:09:02   5/1/2016   5/1/2016  \n",
       "1  Subscriber   00:00:04   00:03:49   5/1/2016   5/1/2016  \n",
       "2  Subscriber   00:00:14   00:05:43   5/1/2016   5/1/2016  \n",
       "3    Customer   00:00:20   00:20:17   5/1/2016   5/1/2016  \n",
       "4  Subscriber   00:00:26   00:13:00   5/1/2016   5/1/2016  "
      ]
     },
     "execution_count": 62,
     "metadata": {},
     "output_type": "execute_result"
    }
   ],
   "source": [
    "bike.head()"
   ]
  },
  {
   "cell_type": "code",
   "execution_count": 63,
   "metadata": {},
   "outputs": [
    {
     "data": {
      "text/plain": [
       "(1212280, 15)"
      ]
     },
     "execution_count": 63,
     "metadata": {},
     "output_type": "execute_result"
    }
   ],
   "source": [
    "bike.shape"
   ]
  },
  {
   "cell_type": "code",
   "execution_count": 64,
   "metadata": {},
   "outputs": [
    {
     "data": {
      "text/html": [
       "<div>\n",
       "<style>\n",
       "    .dataframe thead tr:only-child th {\n",
       "        text-align: right;\n",
       "    }\n",
       "\n",
       "    .dataframe thead th {\n",
       "        text-align: left;\n",
       "    }\n",
       "\n",
       "    .dataframe tbody tr th {\n",
       "        vertical-align: top;\n",
       "    }\n",
       "</style>\n",
       "<table border=\"1\" class=\"dataframe\">\n",
       "  <thead>\n",
       "    <tr style=\"text-align: right;\">\n",
       "      <th></th>\n",
       "      <th>Unnamed: 0</th>\n",
       "      <th>VendorID</th>\n",
       "      <th>passenger_count</th>\n",
       "      <th>trip_dist</th>\n",
       "      <th>pick_long</th>\n",
       "      <th>pick_lat</th>\n",
       "      <th>drop_long</th>\n",
       "      <th>drop_lat</th>\n",
       "      <th>fare</th>\n",
       "      <th>pick_time</th>\n",
       "      <th>drop_time</th>\n",
       "      <th>pick_date</th>\n",
       "      <th>drop_date</th>\n",
       "    </tr>\n",
       "  </thead>\n",
       "  <tbody>\n",
       "    <tr>\n",
       "      <th>0</th>\n",
       "      <td>0</td>\n",
       "      <td>1</td>\n",
       "      <td>1</td>\n",
       "      <td>3.60</td>\n",
       "      <td>-73.985901</td>\n",
       "      <td>40.768040</td>\n",
       "      <td>-73.983986</td>\n",
       "      <td>40.730099</td>\n",
       "      <td>15.0</td>\n",
       "      <td>00:00:00</td>\n",
       "      <td>00:17:31</td>\n",
       "      <td>2016-05-01</td>\n",
       "      <td>2016-05-01</td>\n",
       "    </tr>\n",
       "    <tr>\n",
       "      <th>1</th>\n",
       "      <td>1</td>\n",
       "      <td>2</td>\n",
       "      <td>1</td>\n",
       "      <td>1.68</td>\n",
       "      <td>-73.991577</td>\n",
       "      <td>40.744751</td>\n",
       "      <td>-73.975700</td>\n",
       "      <td>40.765469</td>\n",
       "      <td>7.5</td>\n",
       "      <td>00:00:00</td>\n",
       "      <td>00:07:31</td>\n",
       "      <td>2016-05-01</td>\n",
       "      <td>2016-05-01</td>\n",
       "    </tr>\n",
       "    <tr>\n",
       "      <th>2</th>\n",
       "      <td>2</td>\n",
       "      <td>2</td>\n",
       "      <td>6</td>\n",
       "      <td>1.09</td>\n",
       "      <td>-73.993073</td>\n",
       "      <td>40.741573</td>\n",
       "      <td>-73.980995</td>\n",
       "      <td>40.744633</td>\n",
       "      <td>6.5</td>\n",
       "      <td>00:00:00</td>\n",
       "      <td>00:07:01</td>\n",
       "      <td>2016-05-01</td>\n",
       "      <td>2016-05-01</td>\n",
       "    </tr>\n",
       "    <tr>\n",
       "      <th>3</th>\n",
       "      <td>3</td>\n",
       "      <td>2</td>\n",
       "      <td>1</td>\n",
       "      <td>4.21</td>\n",
       "      <td>-73.991943</td>\n",
       "      <td>40.684601</td>\n",
       "      <td>-74.002258</td>\n",
       "      <td>40.733002</td>\n",
       "      <td>17.0</td>\n",
       "      <td>00:00:00</td>\n",
       "      <td>00:19:47</td>\n",
       "      <td>2016-05-01</td>\n",
       "      <td>2016-05-01</td>\n",
       "    </tr>\n",
       "    <tr>\n",
       "      <th>4</th>\n",
       "      <td>4</td>\n",
       "      <td>2</td>\n",
       "      <td>1</td>\n",
       "      <td>0.56</td>\n",
       "      <td>-74.005280</td>\n",
       "      <td>40.740192</td>\n",
       "      <td>-73.997498</td>\n",
       "      <td>40.737564</td>\n",
       "      <td>6.0</td>\n",
       "      <td>00:00:00</td>\n",
       "      <td>00:06:39</td>\n",
       "      <td>2016-05-01</td>\n",
       "      <td>2016-05-01</td>\n",
       "    </tr>\n",
       "  </tbody>\n",
       "</table>\n",
       "</div>"
      ],
      "text/plain": [
       "   Unnamed: 0  VendorID  passenger_count  trip_dist  pick_long   pick_lat  \\\n",
       "0           0         1                1       3.60 -73.985901  40.768040   \n",
       "1           1         2                1       1.68 -73.991577  40.744751   \n",
       "2           2         2                6       1.09 -73.993073  40.741573   \n",
       "3           3         2                1       4.21 -73.991943  40.684601   \n",
       "4           4         2                1       0.56 -74.005280  40.740192   \n",
       "\n",
       "   drop_long   drop_lat  fare pick_time drop_time   pick_date   drop_date  \n",
       "0 -73.983986  40.730099  15.0  00:00:00  00:17:31  2016-05-01  2016-05-01  \n",
       "1 -73.975700  40.765469   7.5  00:00:00  00:07:31  2016-05-01  2016-05-01  \n",
       "2 -73.980995  40.744633   6.5  00:00:00  00:07:01  2016-05-01  2016-05-01  \n",
       "3 -74.002258  40.733002  17.0  00:00:00  00:19:47  2016-05-01  2016-05-01  \n",
       "4 -73.997498  40.737564   6.0  00:00:00  00:06:39  2016-05-01  2016-05-01  "
      ]
     },
     "execution_count": 64,
     "metadata": {},
     "output_type": "execute_result"
    }
   ],
   "source": [
    "cab.head()"
   ]
  },
  {
   "cell_type": "code",
   "execution_count": 65,
   "metadata": {},
   "outputs": [
    {
     "data": {
      "text/plain": [
       "(11836853, 13)"
      ]
     },
     "execution_count": 65,
     "metadata": {},
     "output_type": "execute_result"
    }
   ],
   "source": [
    "cab.shape"
   ]
  },
  {
   "cell_type": "markdown",
   "metadata": {},
   "source": [
    "slicing 500k rows from bike and cabs data"
   ]
  },
  {
   "cell_type": "code",
   "execution_count": 66,
   "metadata": {
    "collapsed": true
   },
   "outputs": [],
   "source": [
    "bike_citi=bike[:500000]"
   ]
  },
  {
   "cell_type": "code",
   "execution_count": 67,
   "metadata": {
    "collapsed": true
   },
   "outputs": [],
   "source": [
    "pd.set_option('display.max_columns', 500)"
   ]
  },
  {
   "cell_type": "code",
   "execution_count": 75,
   "metadata": {},
   "outputs": [
    {
     "data": {
      "text/html": [
       "<div>\n",
       "<style>\n",
       "    .dataframe thead tr:only-child th {\n",
       "        text-align: right;\n",
       "    }\n",
       "\n",
       "    .dataframe thead th {\n",
       "        text-align: left;\n",
       "    }\n",
       "\n",
       "    .dataframe tbody tr th {\n",
       "        vertical-align: top;\n",
       "    }\n",
       "</style>\n",
       "<table border=\"1\" class=\"dataframe\">\n",
       "  <thead>\n",
       "    <tr style=\"text-align: right;\">\n",
       "      <th></th>\n",
       "      <th>duration</th>\n",
       "      <th>pick_sid</th>\n",
       "      <th>pick_sname</th>\n",
       "      <th>pick_blat</th>\n",
       "      <th>pick_blong</th>\n",
       "      <th>drop_sid</th>\n",
       "      <th>drop_sname</th>\n",
       "      <th>drop_blat</th>\n",
       "      <th>drop_blong</th>\n",
       "      <th>pick_btime</th>\n",
       "      <th>drop_btime</th>\n",
       "      <th>pick_bdate</th>\n",
       "      <th>drop_bdate</th>\n",
       "    </tr>\n",
       "  </thead>\n",
       "  <tbody>\n",
       "    <tr>\n",
       "      <th>0</th>\n",
       "      <td>538</td>\n",
       "      <td>536</td>\n",
       "      <td>1 Ave &amp; E 30 St</td>\n",
       "      <td>40.741444</td>\n",
       "      <td>-73.975361</td>\n",
       "      <td>497</td>\n",
       "      <td>E 17 St &amp; Broadway</td>\n",
       "      <td>40.737050</td>\n",
       "      <td>-73.990093</td>\n",
       "      <td>00:00:03</td>\n",
       "      <td>00:09:02</td>\n",
       "      <td>5/1/2016</td>\n",
       "      <td>5/1/2016</td>\n",
       "    </tr>\n",
       "    <tr>\n",
       "      <th>1</th>\n",
       "      <td>224</td>\n",
       "      <td>361</td>\n",
       "      <td>Allen St &amp; Hester St</td>\n",
       "      <td>40.716059</td>\n",
       "      <td>-73.991908</td>\n",
       "      <td>340</td>\n",
       "      <td>Madison St &amp; Clinton St</td>\n",
       "      <td>40.712690</td>\n",
       "      <td>-73.987763</td>\n",
       "      <td>00:00:04</td>\n",
       "      <td>00:03:49</td>\n",
       "      <td>5/1/2016</td>\n",
       "      <td>5/1/2016</td>\n",
       "    </tr>\n",
       "    <tr>\n",
       "      <th>2</th>\n",
       "      <td>328</td>\n",
       "      <td>301</td>\n",
       "      <td>E 2 St &amp; Avenue B</td>\n",
       "      <td>40.722174</td>\n",
       "      <td>-73.983688</td>\n",
       "      <td>311</td>\n",
       "      <td>Norfolk St &amp; Broome St</td>\n",
       "      <td>40.717227</td>\n",
       "      <td>-73.988021</td>\n",
       "      <td>00:00:14</td>\n",
       "      <td>00:05:43</td>\n",
       "      <td>5/1/2016</td>\n",
       "      <td>5/1/2016</td>\n",
       "    </tr>\n",
       "    <tr>\n",
       "      <th>3</th>\n",
       "      <td>1196</td>\n",
       "      <td>3141</td>\n",
       "      <td>1 Ave &amp; E 68 St</td>\n",
       "      <td>40.765005</td>\n",
       "      <td>-73.958185</td>\n",
       "      <td>237</td>\n",
       "      <td>E 11 St &amp; 2 Ave</td>\n",
       "      <td>40.730473</td>\n",
       "      <td>-73.986724</td>\n",
       "      <td>00:00:20</td>\n",
       "      <td>00:20:17</td>\n",
       "      <td>5/1/2016</td>\n",
       "      <td>5/1/2016</td>\n",
       "    </tr>\n",
       "    <tr>\n",
       "      <th>4</th>\n",
       "      <td>753</td>\n",
       "      <td>492</td>\n",
       "      <td>W 33 St &amp; 7 Ave</td>\n",
       "      <td>40.750200</td>\n",
       "      <td>-73.990931</td>\n",
       "      <td>228</td>\n",
       "      <td>E 48 St &amp; 3 Ave</td>\n",
       "      <td>40.754601</td>\n",
       "      <td>-73.971879</td>\n",
       "      <td>00:00:26</td>\n",
       "      <td>00:13:00</td>\n",
       "      <td>5/1/2016</td>\n",
       "      <td>5/1/2016</td>\n",
       "    </tr>\n",
       "  </tbody>\n",
       "</table>\n",
       "</div>"
      ],
      "text/plain": [
       "   duration  pick_sid            pick_sname  pick_blat  pick_blong  drop_sid  \\\n",
       "0       538       536       1 Ave & E 30 St  40.741444  -73.975361       497   \n",
       "1       224       361  Allen St & Hester St  40.716059  -73.991908       340   \n",
       "2       328       301     E 2 St & Avenue B  40.722174  -73.983688       311   \n",
       "3      1196      3141       1 Ave & E 68 St  40.765005  -73.958185       237   \n",
       "4       753       492       W 33 St & 7 Ave  40.750200  -73.990931       228   \n",
       "\n",
       "                drop_sname  drop_blat  drop_blong pick_btime drop_btime  \\\n",
       "0       E 17 St & Broadway  40.737050  -73.990093   00:00:03   00:09:02   \n",
       "1  Madison St & Clinton St  40.712690  -73.987763   00:00:04   00:03:49   \n",
       "2   Norfolk St & Broome St  40.717227  -73.988021   00:00:14   00:05:43   \n",
       "3          E 11 St & 2 Ave  40.730473  -73.986724   00:00:20   00:20:17   \n",
       "4          E 48 St & 3 Ave  40.754601  -73.971879   00:00:26   00:13:00   \n",
       "\n",
       "  pick_bdate drop_bdate  \n",
       "0   5/1/2016   5/1/2016  \n",
       "1   5/1/2016   5/1/2016  \n",
       "2   5/1/2016   5/1/2016  \n",
       "3   5/1/2016   5/1/2016  \n",
       "4   5/1/2016   5/1/2016  "
      ]
     },
     "execution_count": 75,
     "metadata": {},
     "output_type": "execute_result"
    }
   ],
   "source": [
    "bike_citi.head()"
   ]
  },
  {
   "cell_type": "markdown",
   "metadata": {},
   "source": [
    "we will try to project the lat and long of pickup and drop off of cabs and bikes. so we drop the rest of the features."
   ]
  },
  {
   "cell_type": "code",
   "execution_count": 113,
   "metadata": {},
   "outputs": [
    {
     "name": "stderr",
     "output_type": "stream",
     "text": [
      "/usr/local/lib/python3.5/dist-packages/ipykernel_launcher.py:1: SettingWithCopyWarning: \n",
      "A value is trying to be set on a copy of a slice from a DataFrame\n",
      "\n",
      "See the caveats in the documentation: http://pandas.pydata.org/pandas-docs/stable/indexing.html#indexing-view-versus-copy\n",
      "  \"\"\"Entry point for launching an IPython kernel.\n"
     ]
    }
   ],
   "source": [
    "bike_citi.drop(['duration'],axis = 1, inplace = True)"
   ]
  },
  {
   "cell_type": "code",
   "execution_count": 114,
   "metadata": {},
   "outputs": [
    {
     "data": {
      "text/html": [
       "<div>\n",
       "<style>\n",
       "    .dataframe thead tr:only-child th {\n",
       "        text-align: right;\n",
       "    }\n",
       "\n",
       "    .dataframe thead th {\n",
       "        text-align: left;\n",
       "    }\n",
       "\n",
       "    .dataframe tbody tr th {\n",
       "        vertical-align: top;\n",
       "    }\n",
       "</style>\n",
       "<table border=\"1\" class=\"dataframe\">\n",
       "  <thead>\n",
       "    <tr style=\"text-align: right;\">\n",
       "      <th></th>\n",
       "      <th>pick_blat</th>\n",
       "      <th>pick_blong</th>\n",
       "      <th>drop_blat</th>\n",
       "      <th>drop_blong</th>\n",
       "    </tr>\n",
       "  </thead>\n",
       "  <tbody>\n",
       "    <tr>\n",
       "      <th>0</th>\n",
       "      <td>40.741444</td>\n",
       "      <td>-73.975361</td>\n",
       "      <td>40.737050</td>\n",
       "      <td>-73.990093</td>\n",
       "    </tr>\n",
       "    <tr>\n",
       "      <th>1</th>\n",
       "      <td>40.716059</td>\n",
       "      <td>-73.991908</td>\n",
       "      <td>40.712690</td>\n",
       "      <td>-73.987763</td>\n",
       "    </tr>\n",
       "    <tr>\n",
       "      <th>2</th>\n",
       "      <td>40.722174</td>\n",
       "      <td>-73.983688</td>\n",
       "      <td>40.717227</td>\n",
       "      <td>-73.988021</td>\n",
       "    </tr>\n",
       "    <tr>\n",
       "      <th>3</th>\n",
       "      <td>40.765005</td>\n",
       "      <td>-73.958185</td>\n",
       "      <td>40.730473</td>\n",
       "      <td>-73.986724</td>\n",
       "    </tr>\n",
       "    <tr>\n",
       "      <th>4</th>\n",
       "      <td>40.750200</td>\n",
       "      <td>-73.990931</td>\n",
       "      <td>40.754601</td>\n",
       "      <td>-73.971879</td>\n",
       "    </tr>\n",
       "  </tbody>\n",
       "</table>\n",
       "</div>"
      ],
      "text/plain": [
       "   pick_blat  pick_blong  drop_blat  drop_blong\n",
       "0  40.741444  -73.975361  40.737050  -73.990093\n",
       "1  40.716059  -73.991908  40.712690  -73.987763\n",
       "2  40.722174  -73.983688  40.717227  -73.988021\n",
       "3  40.765005  -73.958185  40.730473  -73.986724\n",
       "4  40.750200  -73.990931  40.754601  -73.971879"
      ]
     },
     "execution_count": 114,
     "metadata": {},
     "output_type": "execute_result"
    }
   ],
   "source": [
    "bike_citi.head()"
   ]
  },
  {
   "cell_type": "code",
   "execution_count": 86,
   "metadata": {},
   "outputs": [
    {
     "name": "stderr",
     "output_type": "stream",
     "text": [
      "/usr/local/lib/python3.5/dist-packages/pandas/core/generic.py:3110: SettingWithCopyWarning: \n",
      "A value is trying to be set on a copy of a slice from a DataFrame.\n",
      "Try using .loc[row_indexer,col_indexer] = value instead\n",
      "\n",
      "See the caveats in the documentation: http://pandas.pydata.org/pandas-docs/stable/indexing.html#indexing-view-versus-copy\n",
      "  self[name] = value\n"
     ]
    }
   ],
   "source": [
    "bike_citi.drop_bdate = pd.to_numeric(bike_citi['drop_bdate'], errors='coerse')\n"
   ]
  },
  {
   "cell_type": "code",
   "execution_count": 96,
   "metadata": {},
   "outputs": [
    {
     "data": {
      "text/plain": [
       "duration        int64\n",
       "pick_sid        int64\n",
       "pick_blat     float64\n",
       "pick_blong    float64\n",
       "drop_sid        int64\n",
       "drop_blat     float64\n",
       "drop_blong    float64\n",
       "dtype: object"
      ]
     },
     "execution_count": 96,
     "metadata": {},
     "output_type": "execute_result"
    }
   ],
   "source": [
    "bike_citi.dtypes"
   ]
  },
  {
   "cell_type": "code",
   "execution_count": 100,
   "metadata": {
    "collapsed": true
   },
   "outputs": [],
   "source": [
    "cab_y=cab[:500000]"
   ]
  },
  {
   "cell_type": "code",
   "execution_count": 101,
   "metadata": {},
   "outputs": [
    {
     "name": "stderr",
     "output_type": "stream",
     "text": [
      "/usr/local/lib/python3.5/dist-packages/pandas/core/frame.py:2746: SettingWithCopyWarning: \n",
      "A value is trying to be set on a copy of a slice from a DataFrame\n",
      "\n",
      "See the caveats in the documentation: http://pandas.pydata.org/pandas-docs/stable/indexing.html#indexing-view-versus-copy\n",
      "  **kwargs)\n"
     ]
    }
   ],
   "source": [
    "cab_y.rename(columns={'pick_long': 'pick_blong','pick_lat': 'pick_blat','drop_long': 'drop_blong','drop_lat': 'drop_blat','pick_time': 'pick_btime','drop_time': 'drop_btime','drop_date': 'drop_bdate','pick_date': 'pick_bdate'}, inplace=True)"
   ]
  },
  {
   "cell_type": "code",
   "execution_count": 102,
   "metadata": {},
   "outputs": [
    {
     "data": {
      "text/html": [
       "<div>\n",
       "<style>\n",
       "    .dataframe thead tr:only-child th {\n",
       "        text-align: right;\n",
       "    }\n",
       "\n",
       "    .dataframe thead th {\n",
       "        text-align: left;\n",
       "    }\n",
       "\n",
       "    .dataframe tbody tr th {\n",
       "        vertical-align: top;\n",
       "    }\n",
       "</style>\n",
       "<table border=\"1\" class=\"dataframe\">\n",
       "  <thead>\n",
       "    <tr style=\"text-align: right;\">\n",
       "      <th></th>\n",
       "      <th>Unnamed: 0</th>\n",
       "      <th>VendorID</th>\n",
       "      <th>passenger_count</th>\n",
       "      <th>trip_dist</th>\n",
       "      <th>pick_blong</th>\n",
       "      <th>pick_blat</th>\n",
       "      <th>drop_blong</th>\n",
       "      <th>drop_blat</th>\n",
       "      <th>fare</th>\n",
       "      <th>pick_btime</th>\n",
       "      <th>drop_btime</th>\n",
       "      <th>pick_bdate</th>\n",
       "      <th>drop_bdate</th>\n",
       "    </tr>\n",
       "  </thead>\n",
       "  <tbody>\n",
       "    <tr>\n",
       "      <th>0</th>\n",
       "      <td>0</td>\n",
       "      <td>1</td>\n",
       "      <td>1</td>\n",
       "      <td>3.60</td>\n",
       "      <td>-73.985901</td>\n",
       "      <td>40.768040</td>\n",
       "      <td>-73.983986</td>\n",
       "      <td>40.730099</td>\n",
       "      <td>15.0</td>\n",
       "      <td>00:00:00</td>\n",
       "      <td>00:17:31</td>\n",
       "      <td>2016-05-01</td>\n",
       "      <td>2016-05-01</td>\n",
       "    </tr>\n",
       "    <tr>\n",
       "      <th>1</th>\n",
       "      <td>1</td>\n",
       "      <td>2</td>\n",
       "      <td>1</td>\n",
       "      <td>1.68</td>\n",
       "      <td>-73.991577</td>\n",
       "      <td>40.744751</td>\n",
       "      <td>-73.975700</td>\n",
       "      <td>40.765469</td>\n",
       "      <td>7.5</td>\n",
       "      <td>00:00:00</td>\n",
       "      <td>00:07:31</td>\n",
       "      <td>2016-05-01</td>\n",
       "      <td>2016-05-01</td>\n",
       "    </tr>\n",
       "    <tr>\n",
       "      <th>2</th>\n",
       "      <td>2</td>\n",
       "      <td>2</td>\n",
       "      <td>6</td>\n",
       "      <td>1.09</td>\n",
       "      <td>-73.993073</td>\n",
       "      <td>40.741573</td>\n",
       "      <td>-73.980995</td>\n",
       "      <td>40.744633</td>\n",
       "      <td>6.5</td>\n",
       "      <td>00:00:00</td>\n",
       "      <td>00:07:01</td>\n",
       "      <td>2016-05-01</td>\n",
       "      <td>2016-05-01</td>\n",
       "    </tr>\n",
       "    <tr>\n",
       "      <th>3</th>\n",
       "      <td>3</td>\n",
       "      <td>2</td>\n",
       "      <td>1</td>\n",
       "      <td>4.21</td>\n",
       "      <td>-73.991943</td>\n",
       "      <td>40.684601</td>\n",
       "      <td>-74.002258</td>\n",
       "      <td>40.733002</td>\n",
       "      <td>17.0</td>\n",
       "      <td>00:00:00</td>\n",
       "      <td>00:19:47</td>\n",
       "      <td>2016-05-01</td>\n",
       "      <td>2016-05-01</td>\n",
       "    </tr>\n",
       "    <tr>\n",
       "      <th>4</th>\n",
       "      <td>4</td>\n",
       "      <td>2</td>\n",
       "      <td>1</td>\n",
       "      <td>0.56</td>\n",
       "      <td>-74.005280</td>\n",
       "      <td>40.740192</td>\n",
       "      <td>-73.997498</td>\n",
       "      <td>40.737564</td>\n",
       "      <td>6.0</td>\n",
       "      <td>00:00:00</td>\n",
       "      <td>00:06:39</td>\n",
       "      <td>2016-05-01</td>\n",
       "      <td>2016-05-01</td>\n",
       "    </tr>\n",
       "  </tbody>\n",
       "</table>\n",
       "</div>"
      ],
      "text/plain": [
       "   Unnamed: 0  VendorID  passenger_count  trip_dist  pick_blong  pick_blat  \\\n",
       "0           0         1                1       3.60  -73.985901  40.768040   \n",
       "1           1         2                1       1.68  -73.991577  40.744751   \n",
       "2           2         2                6       1.09  -73.993073  40.741573   \n",
       "3           3         2                1       4.21  -73.991943  40.684601   \n",
       "4           4         2                1       0.56  -74.005280  40.740192   \n",
       "\n",
       "   drop_blong  drop_blat  fare pick_btime drop_btime  pick_bdate  drop_bdate  \n",
       "0  -73.983986  40.730099  15.0   00:00:00   00:17:31  2016-05-01  2016-05-01  \n",
       "1  -73.975700  40.765469   7.5   00:00:00   00:07:31  2016-05-01  2016-05-01  \n",
       "2  -73.980995  40.744633   6.5   00:00:00   00:07:01  2016-05-01  2016-05-01  \n",
       "3  -74.002258  40.733002  17.0   00:00:00   00:19:47  2016-05-01  2016-05-01  \n",
       "4  -73.997498  40.737564   6.0   00:00:00   00:06:39  2016-05-01  2016-05-01  "
      ]
     },
     "execution_count": 102,
     "metadata": {},
     "output_type": "execute_result"
    }
   ],
   "source": [
    "cab_y.head()"
   ]
  },
  {
   "cell_type": "code",
   "execution_count": 112,
   "metadata": {},
   "outputs": [
    {
     "name": "stderr",
     "output_type": "stream",
     "text": [
      "/usr/local/lib/python3.5/dist-packages/ipykernel_launcher.py:1: SettingWithCopyWarning: \n",
      "A value is trying to be set on a copy of a slice from a DataFrame\n",
      "\n",
      "See the caveats in the documentation: http://pandas.pydata.org/pandas-docs/stable/indexing.html#indexing-view-versus-copy\n",
      "  \"\"\"Entry point for launching an IPython kernel.\n"
     ]
    }
   ],
   "source": [
    "cab_y.drop(['drop_bdate'],axis = 1, inplace = True)"
   ]
  },
  {
   "cell_type": "code",
   "execution_count": 116,
   "metadata": {},
   "outputs": [
    {
     "data": {
      "text/plain": [
       "pick_blong    float64\n",
       "pick_blat     float64\n",
       "drop_blong    float64\n",
       "drop_blat     float64\n",
       "dtype: object"
      ]
     },
     "execution_count": 116,
     "metadata": {},
     "output_type": "execute_result"
    }
   ],
   "source": [
    "cab_y.head()\n",
    "cab_y.dtypes"
   ]
  },
  {
   "cell_type": "markdown",
   "metadata": {},
   "source": [
    "we concatenate both bike and cab datasets to apply the SOM algorithm"
   ]
  },
  {
   "cell_type": "code",
   "execution_count": 117,
   "metadata": {
    "collapsed": true
   },
   "outputs": [],
   "source": [
    "data = pd.concat([bike_citi,cab_y])"
   ]
  },
  {
   "cell_type": "code",
   "execution_count": 118,
   "metadata": {},
   "outputs": [
    {
     "data": {
      "text/html": [
       "<div>\n",
       "<style>\n",
       "    .dataframe thead tr:only-child th {\n",
       "        text-align: right;\n",
       "    }\n",
       "\n",
       "    .dataframe thead th {\n",
       "        text-align: left;\n",
       "    }\n",
       "\n",
       "    .dataframe tbody tr th {\n",
       "        vertical-align: top;\n",
       "    }\n",
       "</style>\n",
       "<table border=\"1\" class=\"dataframe\">\n",
       "  <thead>\n",
       "    <tr style=\"text-align: right;\">\n",
       "      <th></th>\n",
       "      <th>drop_blat</th>\n",
       "      <th>drop_blong</th>\n",
       "      <th>pick_blat</th>\n",
       "      <th>pick_blong</th>\n",
       "    </tr>\n",
       "  </thead>\n",
       "  <tbody>\n",
       "    <tr>\n",
       "      <th>0</th>\n",
       "      <td>40.737050</td>\n",
       "      <td>-73.990093</td>\n",
       "      <td>40.741444</td>\n",
       "      <td>-73.975361</td>\n",
       "    </tr>\n",
       "    <tr>\n",
       "      <th>1</th>\n",
       "      <td>40.712690</td>\n",
       "      <td>-73.987763</td>\n",
       "      <td>40.716059</td>\n",
       "      <td>-73.991908</td>\n",
       "    </tr>\n",
       "    <tr>\n",
       "      <th>2</th>\n",
       "      <td>40.717227</td>\n",
       "      <td>-73.988021</td>\n",
       "      <td>40.722174</td>\n",
       "      <td>-73.983688</td>\n",
       "    </tr>\n",
       "    <tr>\n",
       "      <th>3</th>\n",
       "      <td>40.730473</td>\n",
       "      <td>-73.986724</td>\n",
       "      <td>40.765005</td>\n",
       "      <td>-73.958185</td>\n",
       "    </tr>\n",
       "    <tr>\n",
       "      <th>4</th>\n",
       "      <td>40.754601</td>\n",
       "      <td>-73.971879</td>\n",
       "      <td>40.750200</td>\n",
       "      <td>-73.990931</td>\n",
       "    </tr>\n",
       "  </tbody>\n",
       "</table>\n",
       "</div>"
      ],
      "text/plain": [
       "   drop_blat  drop_blong  pick_blat  pick_blong\n",
       "0  40.737050  -73.990093  40.741444  -73.975361\n",
       "1  40.712690  -73.987763  40.716059  -73.991908\n",
       "2  40.717227  -73.988021  40.722174  -73.983688\n",
       "3  40.730473  -73.986724  40.765005  -73.958185\n",
       "4  40.754601  -73.971879  40.750200  -73.990931"
      ]
     },
     "execution_count": 118,
     "metadata": {},
     "output_type": "execute_result"
    }
   ],
   "source": [
    "data.head()"
   ]
  },
  {
   "cell_type": "markdown",
   "metadata": {},
   "source": [
    "after combining we have now 1 million rows"
   ]
  },
  {
   "cell_type": "code",
   "execution_count": 202,
   "metadata": {},
   "outputs": [
    {
     "data": {
      "text/plain": [
       "(1000000, 5)"
      ]
     },
     "execution_count": 202,
     "metadata": {},
     "output_type": "execute_result"
    }
   ],
   "source": [
    "data.shape"
   ]
  },
  {
   "cell_type": "markdown",
   "metadata": {},
   "source": [
    "id column is created to reference any row from the data "
   ]
  },
  {
   "cell_type": "code",
   "execution_count": 120,
   "metadata": {},
   "outputs": [
    {
     "data": {
      "text/html": [
       "<div>\n",
       "<style>\n",
       "    .dataframe thead tr:only-child th {\n",
       "        text-align: right;\n",
       "    }\n",
       "\n",
       "    .dataframe thead th {\n",
       "        text-align: left;\n",
       "    }\n",
       "\n",
       "    .dataframe tbody tr th {\n",
       "        vertical-align: top;\n",
       "    }\n",
       "</style>\n",
       "<table border=\"1\" class=\"dataframe\">\n",
       "  <thead>\n",
       "    <tr style=\"text-align: right;\">\n",
       "      <th></th>\n",
       "      <th>id</th>\n",
       "      <th>drop_blat</th>\n",
       "      <th>drop_blong</th>\n",
       "      <th>pick_blat</th>\n",
       "      <th>pick_blong</th>\n",
       "    </tr>\n",
       "  </thead>\n",
       "  <tbody>\n",
       "    <tr>\n",
       "      <th>0</th>\n",
       "      <td>0</td>\n",
       "      <td>40.737050</td>\n",
       "      <td>-73.990093</td>\n",
       "      <td>40.741444</td>\n",
       "      <td>-73.975361</td>\n",
       "    </tr>\n",
       "    <tr>\n",
       "      <th>1</th>\n",
       "      <td>1</td>\n",
       "      <td>40.712690</td>\n",
       "      <td>-73.987763</td>\n",
       "      <td>40.716059</td>\n",
       "      <td>-73.991908</td>\n",
       "    </tr>\n",
       "    <tr>\n",
       "      <th>2</th>\n",
       "      <td>2</td>\n",
       "      <td>40.717227</td>\n",
       "      <td>-73.988021</td>\n",
       "      <td>40.722174</td>\n",
       "      <td>-73.983688</td>\n",
       "    </tr>\n",
       "    <tr>\n",
       "      <th>3</th>\n",
       "      <td>3</td>\n",
       "      <td>40.730473</td>\n",
       "      <td>-73.986724</td>\n",
       "      <td>40.765005</td>\n",
       "      <td>-73.958185</td>\n",
       "    </tr>\n",
       "    <tr>\n",
       "      <th>4</th>\n",
       "      <td>4</td>\n",
       "      <td>40.754601</td>\n",
       "      <td>-73.971879</td>\n",
       "      <td>40.750200</td>\n",
       "      <td>-73.990931</td>\n",
       "    </tr>\n",
       "    <tr>\n",
       "      <th>5</th>\n",
       "      <td>5</td>\n",
       "      <td>40.740259</td>\n",
       "      <td>-73.984092</td>\n",
       "      <td>40.727408</td>\n",
       "      <td>-73.981420</td>\n",
       "    </tr>\n",
       "    <tr>\n",
       "      <th>6</th>\n",
       "      <td>6</td>\n",
       "      <td>40.727434</td>\n",
       "      <td>-73.993790</td>\n",
       "      <td>40.722104</td>\n",
       "      <td>-73.997249</td>\n",
       "    </tr>\n",
       "    <tr>\n",
       "      <th>7</th>\n",
       "      <td>7</td>\n",
       "      <td>40.759107</td>\n",
       "      <td>-73.959223</td>\n",
       "      <td>40.729170</td>\n",
       "      <td>-73.998102</td>\n",
       "    </tr>\n",
       "    <tr>\n",
       "      <th>8</th>\n",
       "      <td>8</td>\n",
       "      <td>40.742388</td>\n",
       "      <td>-73.997262</td>\n",
       "      <td>40.730386</td>\n",
       "      <td>-74.002150</td>\n",
       "    </tr>\n",
       "    <tr>\n",
       "      <th>9</th>\n",
       "      <td>9</td>\n",
       "      <td>40.727408</td>\n",
       "      <td>-73.981420</td>\n",
       "      <td>40.746745</td>\n",
       "      <td>-74.007756</td>\n",
       "    </tr>\n",
       "    <tr>\n",
       "      <th>10</th>\n",
       "      <td>10</td>\n",
       "      <td>40.724055</td>\n",
       "      <td>-74.009660</td>\n",
       "      <td>40.722104</td>\n",
       "      <td>-73.997249</td>\n",
       "    </tr>\n",
       "    <tr>\n",
       "      <th>11</th>\n",
       "      <td>11</td>\n",
       "      <td>40.742065</td>\n",
       "      <td>-74.004432</td>\n",
       "      <td>40.734546</td>\n",
       "      <td>-73.990741</td>\n",
       "    </tr>\n",
       "    <tr>\n",
       "      <th>12</th>\n",
       "      <td>12</td>\n",
       "      <td>40.756604</td>\n",
       "      <td>-73.997901</td>\n",
       "      <td>40.751551</td>\n",
       "      <td>-73.993934</td>\n",
       "    </tr>\n",
       "    <tr>\n",
       "      <th>13</th>\n",
       "      <td>13</td>\n",
       "      <td>40.730473</td>\n",
       "      <td>-73.986724</td>\n",
       "      <td>40.765005</td>\n",
       "      <td>-73.958185</td>\n",
       "    </tr>\n",
       "    <tr>\n",
       "      <th>14</th>\n",
       "      <td>14</td>\n",
       "      <td>40.729170</td>\n",
       "      <td>-73.998102</td>\n",
       "      <td>40.735877</td>\n",
       "      <td>-73.982050</td>\n",
       "    </tr>\n",
       "    <tr>\n",
       "      <th>15</th>\n",
       "      <td>15</td>\n",
       "      <td>40.725848</td>\n",
       "      <td>-73.950649</td>\n",
       "      <td>40.717452</td>\n",
       "      <td>-73.958509</td>\n",
       "    </tr>\n",
       "    <tr>\n",
       "      <th>16</th>\n",
       "      <td>16</td>\n",
       "      <td>40.724677</td>\n",
       "      <td>-73.987834</td>\n",
       "      <td>40.724537</td>\n",
       "      <td>-73.981854</td>\n",
       "    </tr>\n",
       "    <tr>\n",
       "      <th>17</th>\n",
       "      <td>17</td>\n",
       "      <td>40.736245</td>\n",
       "      <td>-73.984738</td>\n",
       "      <td>40.726281</td>\n",
       "      <td>-73.989780</td>\n",
       "    </tr>\n",
       "    <tr>\n",
       "      <th>18</th>\n",
       "      <td>18</td>\n",
       "      <td>40.685160</td>\n",
       "      <td>-73.977114</td>\n",
       "      <td>40.692362</td>\n",
       "      <td>-73.986317</td>\n",
       "    </tr>\n",
       "    <tr>\n",
       "      <th>19</th>\n",
       "      <td>19</td>\n",
       "      <td>40.734232</td>\n",
       "      <td>-73.986923</td>\n",
       "      <td>40.744751</td>\n",
       "      <td>-73.999154</td>\n",
       "    </tr>\n",
       "    <tr>\n",
       "      <th>20</th>\n",
       "      <td>20</td>\n",
       "      <td>40.716059</td>\n",
       "      <td>-73.991908</td>\n",
       "      <td>40.724677</td>\n",
       "      <td>-73.987834</td>\n",
       "    </tr>\n",
       "    <tr>\n",
       "      <th>21</th>\n",
       "      <td>21</td>\n",
       "      <td>40.723117</td>\n",
       "      <td>-73.952123</td>\n",
       "      <td>40.717746</td>\n",
       "      <td>-73.956001</td>\n",
       "    </tr>\n",
       "    <tr>\n",
       "      <th>22</th>\n",
       "      <td>22</td>\n",
       "      <td>40.729538</td>\n",
       "      <td>-73.984267</td>\n",
       "      <td>40.760094</td>\n",
       "      <td>-73.994618</td>\n",
       "    </tr>\n",
       "    <tr>\n",
       "      <th>23</th>\n",
       "      <td>23</td>\n",
       "      <td>40.747659</td>\n",
       "      <td>-73.984907</td>\n",
       "      <td>40.763406</td>\n",
       "      <td>-73.977225</td>\n",
       "    </tr>\n",
       "    <tr>\n",
       "      <th>24</th>\n",
       "      <td>24</td>\n",
       "      <td>40.715348</td>\n",
       "      <td>-73.960241</td>\n",
       "      <td>40.708704</td>\n",
       "      <td>-73.944862</td>\n",
       "    </tr>\n",
       "    <tr>\n",
       "      <th>25</th>\n",
       "      <td>25</td>\n",
       "      <td>40.754666</td>\n",
       "      <td>-73.991382</td>\n",
       "      <td>40.731724</td>\n",
       "      <td>-74.006744</td>\n",
       "    </tr>\n",
       "    <tr>\n",
       "      <th>26</th>\n",
       "      <td>26</td>\n",
       "      <td>40.729538</td>\n",
       "      <td>-73.984267</td>\n",
       "      <td>40.760094</td>\n",
       "      <td>-73.994618</td>\n",
       "    </tr>\n",
       "    <tr>\n",
       "      <th>27</th>\n",
       "      <td>27</td>\n",
       "      <td>40.733812</td>\n",
       "      <td>-73.980544</td>\n",
       "      <td>40.732219</td>\n",
       "      <td>-73.981656</td>\n",
       "    </tr>\n",
       "    <tr>\n",
       "      <th>28</th>\n",
       "      <td>28</td>\n",
       "      <td>40.726281</td>\n",
       "      <td>-73.989780</td>\n",
       "      <td>40.742909</td>\n",
       "      <td>-73.977061</td>\n",
       "    </tr>\n",
       "    <tr>\n",
       "      <th>29</th>\n",
       "      <td>29</td>\n",
       "      <td>40.747659</td>\n",
       "      <td>-73.984907</td>\n",
       "      <td>40.763406</td>\n",
       "      <td>-73.977225</td>\n",
       "    </tr>\n",
       "    <tr>\n",
       "      <th>...</th>\n",
       "      <td>...</td>\n",
       "      <td>...</td>\n",
       "      <td>...</td>\n",
       "      <td>...</td>\n",
       "      <td>...</td>\n",
       "    </tr>\n",
       "    <tr>\n",
       "      <th>499970</th>\n",
       "      <td>999970</td>\n",
       "      <td>40.764427</td>\n",
       "      <td>-73.976952</td>\n",
       "      <td>40.769821</td>\n",
       "      <td>-73.863838</td>\n",
       "    </tr>\n",
       "    <tr>\n",
       "      <th>499971</th>\n",
       "      <td>999971</td>\n",
       "      <td>0.000000</td>\n",
       "      <td>0.000000</td>\n",
       "      <td>0.000000</td>\n",
       "      <td>0.000000</td>\n",
       "    </tr>\n",
       "    <tr>\n",
       "      <th>499972</th>\n",
       "      <td>999972</td>\n",
       "      <td>40.745129</td>\n",
       "      <td>-73.975548</td>\n",
       "      <td>40.752525</td>\n",
       "      <td>-73.970322</td>\n",
       "    </tr>\n",
       "    <tr>\n",
       "      <th>499973</th>\n",
       "      <td>999973</td>\n",
       "      <td>40.759682</td>\n",
       "      <td>-73.989609</td>\n",
       "      <td>40.759655</td>\n",
       "      <td>-73.989639</td>\n",
       "    </tr>\n",
       "    <tr>\n",
       "      <th>499974</th>\n",
       "      <td>999974</td>\n",
       "      <td>40.748619</td>\n",
       "      <td>-73.987267</td>\n",
       "      <td>40.757038</td>\n",
       "      <td>-73.978500</td>\n",
       "    </tr>\n",
       "    <tr>\n",
       "      <th>499975</th>\n",
       "      <td>999975</td>\n",
       "      <td>40.773514</td>\n",
       "      <td>-73.955475</td>\n",
       "      <td>40.746204</td>\n",
       "      <td>-73.984100</td>\n",
       "    </tr>\n",
       "    <tr>\n",
       "      <th>499976</th>\n",
       "      <td>999976</td>\n",
       "      <td>40.741669</td>\n",
       "      <td>-73.975044</td>\n",
       "      <td>40.765087</td>\n",
       "      <td>-73.957993</td>\n",
       "    </tr>\n",
       "    <tr>\n",
       "      <th>499977</th>\n",
       "      <td>999977</td>\n",
       "      <td>40.776783</td>\n",
       "      <td>-73.979347</td>\n",
       "      <td>40.786381</td>\n",
       "      <td>-73.972336</td>\n",
       "    </tr>\n",
       "    <tr>\n",
       "      <th>499978</th>\n",
       "      <td>999978</td>\n",
       "      <td>40.771523</td>\n",
       "      <td>-73.988297</td>\n",
       "      <td>40.782452</td>\n",
       "      <td>-73.975212</td>\n",
       "    </tr>\n",
       "    <tr>\n",
       "      <th>499979</th>\n",
       "      <td>999979</td>\n",
       "      <td>40.776958</td>\n",
       "      <td>-73.977554</td>\n",
       "      <td>40.773914</td>\n",
       "      <td>-73.960892</td>\n",
       "    </tr>\n",
       "    <tr>\n",
       "      <th>499980</th>\n",
       "      <td>999980</td>\n",
       "      <td>40.738605</td>\n",
       "      <td>-73.986458</td>\n",
       "      <td>40.772709</td>\n",
       "      <td>-73.958275</td>\n",
       "    </tr>\n",
       "    <tr>\n",
       "      <th>499981</th>\n",
       "      <td>999981</td>\n",
       "      <td>40.799728</td>\n",
       "      <td>-73.964058</td>\n",
       "      <td>40.766014</td>\n",
       "      <td>-73.954018</td>\n",
       "    </tr>\n",
       "    <tr>\n",
       "      <th>499982</th>\n",
       "      <td>999982</td>\n",
       "      <td>40.750797</td>\n",
       "      <td>-73.985481</td>\n",
       "      <td>40.773685</td>\n",
       "      <td>-73.870811</td>\n",
       "    </tr>\n",
       "    <tr>\n",
       "      <th>499983</th>\n",
       "      <td>999983</td>\n",
       "      <td>40.752628</td>\n",
       "      <td>-73.987518</td>\n",
       "      <td>40.769119</td>\n",
       "      <td>-73.981407</td>\n",
       "    </tr>\n",
       "    <tr>\n",
       "      <th>499984</th>\n",
       "      <td>999984</td>\n",
       "      <td>40.743359</td>\n",
       "      <td>-73.988129</td>\n",
       "      <td>40.742725</td>\n",
       "      <td>-73.986588</td>\n",
       "    </tr>\n",
       "    <tr>\n",
       "      <th>499985</th>\n",
       "      <td>999985</td>\n",
       "      <td>40.724209</td>\n",
       "      <td>-73.988716</td>\n",
       "      <td>40.743504</td>\n",
       "      <td>-73.988106</td>\n",
       "    </tr>\n",
       "    <tr>\n",
       "      <th>499986</th>\n",
       "      <td>999986</td>\n",
       "      <td>40.773884</td>\n",
       "      <td>-73.964317</td>\n",
       "      <td>40.751137</td>\n",
       "      <td>-73.980423</td>\n",
       "    </tr>\n",
       "    <tr>\n",
       "      <th>499987</th>\n",
       "      <td>999987</td>\n",
       "      <td>40.716351</td>\n",
       "      <td>-74.015152</td>\n",
       "      <td>40.759991</td>\n",
       "      <td>-73.969971</td>\n",
       "    </tr>\n",
       "    <tr>\n",
       "      <th>499988</th>\n",
       "      <td>999988</td>\n",
       "      <td>40.789639</td>\n",
       "      <td>-73.979660</td>\n",
       "      <td>40.781078</td>\n",
       "      <td>-73.979881</td>\n",
       "    </tr>\n",
       "    <tr>\n",
       "      <th>499989</th>\n",
       "      <td>999989</td>\n",
       "      <td>40.672371</td>\n",
       "      <td>-73.957024</td>\n",
       "      <td>40.646832</td>\n",
       "      <td>-73.789436</td>\n",
       "    </tr>\n",
       "    <tr>\n",
       "      <th>499990</th>\n",
       "      <td>999990</td>\n",
       "      <td>40.773499</td>\n",
       "      <td>-73.955894</td>\n",
       "      <td>40.762005</td>\n",
       "      <td>-73.978935</td>\n",
       "    </tr>\n",
       "    <tr>\n",
       "      <th>499991</th>\n",
       "      <td>999991</td>\n",
       "      <td>40.794579</td>\n",
       "      <td>-73.969879</td>\n",
       "      <td>40.785809</td>\n",
       "      <td>-73.976326</td>\n",
       "    </tr>\n",
       "    <tr>\n",
       "      <th>499992</th>\n",
       "      <td>999992</td>\n",
       "      <td>40.774616</td>\n",
       "      <td>-73.958206</td>\n",
       "      <td>40.761307</td>\n",
       "      <td>-73.971001</td>\n",
       "    </tr>\n",
       "    <tr>\n",
       "      <th>499993</th>\n",
       "      <td>999993</td>\n",
       "      <td>40.746513</td>\n",
       "      <td>-74.001503</td>\n",
       "      <td>40.748627</td>\n",
       "      <td>-74.006386</td>\n",
       "    </tr>\n",
       "    <tr>\n",
       "      <th>499994</th>\n",
       "      <td>999994</td>\n",
       "      <td>40.759144</td>\n",
       "      <td>-73.965172</td>\n",
       "      <td>40.745781</td>\n",
       "      <td>-73.972046</td>\n",
       "    </tr>\n",
       "    <tr>\n",
       "      <th>499995</th>\n",
       "      <td>999995</td>\n",
       "      <td>40.750374</td>\n",
       "      <td>-73.991249</td>\n",
       "      <td>40.762932</td>\n",
       "      <td>-73.981918</td>\n",
       "    </tr>\n",
       "    <tr>\n",
       "      <th>499996</th>\n",
       "      <td>999996</td>\n",
       "      <td>40.758682</td>\n",
       "      <td>-74.004166</td>\n",
       "      <td>40.745358</td>\n",
       "      <td>-74.005898</td>\n",
       "    </tr>\n",
       "    <tr>\n",
       "      <th>499997</th>\n",
       "      <td>999997</td>\n",
       "      <td>40.768723</td>\n",
       "      <td>-73.950310</td>\n",
       "      <td>40.778793</td>\n",
       "      <td>-73.953972</td>\n",
       "    </tr>\n",
       "    <tr>\n",
       "      <th>499998</th>\n",
       "      <td>999998</td>\n",
       "      <td>40.761532</td>\n",
       "      <td>-73.975182</td>\n",
       "      <td>40.762672</td>\n",
       "      <td>-73.967766</td>\n",
       "    </tr>\n",
       "    <tr>\n",
       "      <th>499999</th>\n",
       "      <td>999999</td>\n",
       "      <td>40.800217</td>\n",
       "      <td>-73.969215</td>\n",
       "      <td>40.792908</td>\n",
       "      <td>-73.971123</td>\n",
       "    </tr>\n",
       "  </tbody>\n",
       "</table>\n",
       "<p>1000000 rows × 5 columns</p>\n",
       "</div>"
      ],
      "text/plain": [
       "            id  drop_blat  drop_blong  pick_blat  pick_blong\n",
       "0            0  40.737050  -73.990093  40.741444  -73.975361\n",
       "1            1  40.712690  -73.987763  40.716059  -73.991908\n",
       "2            2  40.717227  -73.988021  40.722174  -73.983688\n",
       "3            3  40.730473  -73.986724  40.765005  -73.958185\n",
       "4            4  40.754601  -73.971879  40.750200  -73.990931\n",
       "5            5  40.740259  -73.984092  40.727408  -73.981420\n",
       "6            6  40.727434  -73.993790  40.722104  -73.997249\n",
       "7            7  40.759107  -73.959223  40.729170  -73.998102\n",
       "8            8  40.742388  -73.997262  40.730386  -74.002150\n",
       "9            9  40.727408  -73.981420  40.746745  -74.007756\n",
       "10          10  40.724055  -74.009660  40.722104  -73.997249\n",
       "11          11  40.742065  -74.004432  40.734546  -73.990741\n",
       "12          12  40.756604  -73.997901  40.751551  -73.993934\n",
       "13          13  40.730473  -73.986724  40.765005  -73.958185\n",
       "14          14  40.729170  -73.998102  40.735877  -73.982050\n",
       "15          15  40.725848  -73.950649  40.717452  -73.958509\n",
       "16          16  40.724677  -73.987834  40.724537  -73.981854\n",
       "17          17  40.736245  -73.984738  40.726281  -73.989780\n",
       "18          18  40.685160  -73.977114  40.692362  -73.986317\n",
       "19          19  40.734232  -73.986923  40.744751  -73.999154\n",
       "20          20  40.716059  -73.991908  40.724677  -73.987834\n",
       "21          21  40.723117  -73.952123  40.717746  -73.956001\n",
       "22          22  40.729538  -73.984267  40.760094  -73.994618\n",
       "23          23  40.747659  -73.984907  40.763406  -73.977225\n",
       "24          24  40.715348  -73.960241  40.708704  -73.944862\n",
       "25          25  40.754666  -73.991382  40.731724  -74.006744\n",
       "26          26  40.729538  -73.984267  40.760094  -73.994618\n",
       "27          27  40.733812  -73.980544  40.732219  -73.981656\n",
       "28          28  40.726281  -73.989780  40.742909  -73.977061\n",
       "29          29  40.747659  -73.984907  40.763406  -73.977225\n",
       "...        ...        ...         ...        ...         ...\n",
       "499970  999970  40.764427  -73.976952  40.769821  -73.863838\n",
       "499971  999971   0.000000    0.000000   0.000000    0.000000\n",
       "499972  999972  40.745129  -73.975548  40.752525  -73.970322\n",
       "499973  999973  40.759682  -73.989609  40.759655  -73.989639\n",
       "499974  999974  40.748619  -73.987267  40.757038  -73.978500\n",
       "499975  999975  40.773514  -73.955475  40.746204  -73.984100\n",
       "499976  999976  40.741669  -73.975044  40.765087  -73.957993\n",
       "499977  999977  40.776783  -73.979347  40.786381  -73.972336\n",
       "499978  999978  40.771523  -73.988297  40.782452  -73.975212\n",
       "499979  999979  40.776958  -73.977554  40.773914  -73.960892\n",
       "499980  999980  40.738605  -73.986458  40.772709  -73.958275\n",
       "499981  999981  40.799728  -73.964058  40.766014  -73.954018\n",
       "499982  999982  40.750797  -73.985481  40.773685  -73.870811\n",
       "499983  999983  40.752628  -73.987518  40.769119  -73.981407\n",
       "499984  999984  40.743359  -73.988129  40.742725  -73.986588\n",
       "499985  999985  40.724209  -73.988716  40.743504  -73.988106\n",
       "499986  999986  40.773884  -73.964317  40.751137  -73.980423\n",
       "499987  999987  40.716351  -74.015152  40.759991  -73.969971\n",
       "499988  999988  40.789639  -73.979660  40.781078  -73.979881\n",
       "499989  999989  40.672371  -73.957024  40.646832  -73.789436\n",
       "499990  999990  40.773499  -73.955894  40.762005  -73.978935\n",
       "499991  999991  40.794579  -73.969879  40.785809  -73.976326\n",
       "499992  999992  40.774616  -73.958206  40.761307  -73.971001\n",
       "499993  999993  40.746513  -74.001503  40.748627  -74.006386\n",
       "499994  999994  40.759144  -73.965172  40.745781  -73.972046\n",
       "499995  999995  40.750374  -73.991249  40.762932  -73.981918\n",
       "499996  999996  40.758682  -74.004166  40.745358  -74.005898\n",
       "499997  999997  40.768723  -73.950310  40.778793  -73.953972\n",
       "499998  999998  40.761532  -73.975182  40.762672  -73.967766\n",
       "499999  999999  40.800217  -73.969215  40.792908  -73.971123\n",
       "\n",
       "[1000000 rows x 5 columns]"
      ]
     },
     "execution_count": 120,
     "metadata": {},
     "output_type": "execute_result"
    }
   ],
   "source": [
    "data.insert(0, 'id', range(0, 0 + len(data)))\n",
    "data"
   ]
  },
  {
   "cell_type": "code",
   "execution_count": 121,
   "metadata": {},
   "outputs": [
    {
     "data": {
      "text/plain": [
       "id              int64\n",
       "drop_blat     float64\n",
       "drop_blong    float64\n",
       "pick_blat     float64\n",
       "pick_blong    float64\n",
       "dtype: object"
      ]
     },
     "execution_count": 121,
     "metadata": {},
     "output_type": "execute_result"
    }
   ],
   "source": [
    "data.dtypes"
   ]
  },
  {
   "cell_type": "markdown",
   "metadata": {},
   "source": [
    "extracting the features of the data "
   ]
  },
  {
   "cell_type": "code",
   "execution_count": 122,
   "metadata": {
    "collapsed": true
   },
   "outputs": [],
   "source": [
    "X = data.iloc[:].values"
   ]
  },
  {
   "cell_type": "markdown",
   "metadata": {},
   "source": [
    "scaling the features using sklearn"
   ]
  },
  {
   "cell_type": "code",
   "execution_count": 123,
   "metadata": {
    "collapsed": true
   },
   "outputs": [],
   "source": [
    "from sklearn.preprocessing import MinMaxScaler\n",
    "sc= MinMaxScaler(feature_range = (0,1))"
   ]
  },
  {
   "cell_type": "code",
   "execution_count": 124,
   "metadata": {},
   "outputs": [],
   "source": [
    "X = sc.fit_transform(X)"
   ]
  },
  {
   "cell_type": "markdown",
   "metadata": {},
   "source": [
    "implementation of som using minisom class "
   ]
  },
  {
   "cell_type": "code",
   "execution_count": 125,
   "metadata": {
    "collapsed": true
   },
   "outputs": [],
   "source": [
    "from minisom import MiniSom"
   ]
  },
  {
   "cell_type": "markdown",
   "metadata": {},
   "source": [
    "initialising the weights randomly close to 0 \n",
    "\n",
    "the hyper parameters being sigma and learning rate changing them to 0.5 and 0.3 and running the model to 100 iterations"
   ]
  },
  {
   "cell_type": "code",
   "execution_count": 176,
   "metadata": {
    "collapsed": true
   },
   "outputs": [],
   "source": [
    "som = MiniSom(x = 5, y = 5, input_len = 5, sigma = 0.5, learning_rate = 0.3)\n",
    "som.random_weights_init(X)\n",
    "som.train_random(data = X, num_iteration = 100)"
   ]
  },
  {
   "cell_type": "code",
   "execution_count": 177,
   "metadata": {
    "collapsed": true
   },
   "outputs": [],
   "source": [
    "from pylab import bone, pcolor, colorbar, plot, show"
   ]
  },
  {
   "cell_type": "code",
   "execution_count": 178,
   "metadata": {
    "collapsed": true
   },
   "outputs": [],
   "source": [
    "%matplotlib inline"
   ]
  },
  {
   "cell_type": "markdown",
   "metadata": {},
   "source": [
    "visualisng the SOM mappings using pylab"
   ]
  },
  {
   "cell_type": "code",
   "execution_count": 179,
   "metadata": {},
   "outputs": [
    {
     "data": {
      "text/plain": [
       "<matplotlib.colorbar.Colorbar at 0x7f435c0ce198>"
      ]
     },
     "execution_count": 179,
     "metadata": {},
     "output_type": "execute_result"
    },
    {
     "data": {
      "image/png": "[encoded data removed]",
      "text/plain": [
       "<matplotlib.figure.Figure at 0x7f435c1b4ac8>"
      ]
     },
     "metadata": {},
     "output_type": "display_data"
    }
   ],
   "source": [
    "bone()\n",
    "pcolor(som.distance_map().T)\n",
    "colorbar()"
   ]
  },
  {
   "cell_type": "markdown",
   "metadata": {},
   "source": [
    "creating the mappings for each row**"
   ]
  },
  {
   "cell_type": "code",
   "execution_count": 180,
   "metadata": {
    "collapsed": true
   },
   "outputs": [],
   "source": [
    "mappings = som.win_map(X)"
   ]
  },
  {
   "cell_type": "code",
   "execution_count": 181,
   "metadata": {},
   "outputs": [
    {
     "data": {
      "text/plain": [
       "25"
      ]
     },
     "execution_count": 181,
     "metadata": {},
     "output_type": "execute_result"
    }
   ],
   "source": [
    "len(mappings)"
   ]
  },
  {
   "cell_type": "markdown",
   "metadata": {},
   "source": [
    "extracting the clusters based on the similar inter neuron distances."
   ]
  },
  {
   "cell_type": "code",
   "execution_count": 182,
   "metadata": {},
   "outputs": [],
   "source": [
    "cluster1 = np.concatenate((mappings[(0,1)],mappings[(0,0)],mappings[(4,4)]), axis = 0)\n",
    "cluster1 = sc.inverse_transform(cluster1)"
   ]
  },
  {
   "cell_type": "code",
   "execution_count": 188,
   "metadata": {
    "collapsed": true
   },
   "outputs": [],
   "source": [
    "cluster8 = np.concatenate((mappings[(0,2)],mappings[(4,0)],mappings[(4,2)],mappings[(0,3)]), axis = 0)\n",
    "cluster8 = sc.inverse_transform(cluster8)"
   ]
  },
  {
   "cell_type": "code",
   "execution_count": 184,
   "metadata": {
    "collapsed": true
   },
   "outputs": [],
   "source": [
    "cluster3 = np.concatenate((mappings[(0,4)],mappings[(4,1)],mappings[(4,3)]), axis = 0)\n",
    "cluster3 = sc.inverse_transform(cluster3)"
   ]
  },
  {
   "cell_type": "code",
   "execution_count": 185,
   "metadata": {
    "collapsed": true
   },
   "outputs": [],
   "source": [
    "cluster4 = np.concatenate((mappings[(1,3)],mappings[(2,2)]), axis = 0)\n",
    "cluster4 = sc.inverse_transform(cluster4)"
   ]
  },
  {
   "cell_type": "code",
   "execution_count": 187,
   "metadata": {
    "collapsed": true
   },
   "outputs": [],
   "source": [
    "cluster7 = np.concatenate((mappings[(2,1)],mappings[(2,3)]), axis = 0)\n",
    "cluster7 = sc.inverse_transform(cluster7)"
   ]
  },
  {
   "cell_type": "code",
   "execution_count": 189,
   "metadata": {
    "collapsed": true
   },
   "outputs": [],
   "source": [
    "cluster6 = np.concatenate((mappings[(1,1)],mappings[(1,2)],mappings[(3,1)],mappings[(3,3)]), axis = 0)\n",
    "cluster6 = sc.inverse_transform(cluster6)"
   ]
  },
  {
   "cell_type": "code",
   "execution_count": 190,
   "metadata": {
    "collapsed": true
   },
   "outputs": [],
   "source": [
    "cluster9 = np.concatenate((mappings[(1,0)],mappings[(2,0)],mappings[(1,4)],mappings[(2,4)]), axis = 0)\n",
    "cluster9 = sc.inverse_transform(cluster9)"
   ]
  },
  {
   "cell_type": "code",
   "execution_count": 191,
   "metadata": {
    "collapsed": true
   },
   "outputs": [],
   "source": [
    "cluster10 = np.concatenate((mappings[(3,0)],mappings[(0,4)],mappings[(3,4)]), axis = 0)\n",
    "cluster10 = sc.inverse_transform(cluster10)"
   ]
  },
  {
   "cell_type": "code",
   "execution_count": 199,
   "metadata": {},
   "outputs": [
    {
     "data": {
      "text/html": [
       "<div>\n",
       "<style>\n",
       "    .dataframe thead tr:only-child th {\n",
       "        text-align: right;\n",
       "    }\n",
       "\n",
       "    .dataframe thead th {\n",
       "        text-align: left;\n",
       "    }\n",
       "\n",
       "    .dataframe tbody tr th {\n",
       "        vertical-align: top;\n",
       "    }\n",
       "</style>\n",
       "<table border=\"1\" class=\"dataframe\">\n",
       "  <thead>\n",
       "    <tr style=\"text-align: right;\">\n",
       "      <th></th>\n",
       "      <th>0</th>\n",
       "      <th>1</th>\n",
       "      <th>2</th>\n",
       "      <th>3</th>\n",
       "      <th>4</th>\n",
       "    </tr>\n",
       "  </thead>\n",
       "  <tbody>\n",
       "    <tr>\n",
       "      <th>0</th>\n",
       "      <td>532182.0</td>\n",
       "      <td>40.590717</td>\n",
       "      <td>-73.886681</td>\n",
       "      <td>40.590717</td>\n",
       "      <td>-73.886681</td>\n",
       "    </tr>\n",
       "    <tr>\n",
       "      <th>1</th>\n",
       "      <td>532208.0</td>\n",
       "      <td>40.666523</td>\n",
       "      <td>-73.931274</td>\n",
       "      <td>40.649086</td>\n",
       "      <td>-73.964058</td>\n",
       "    </tr>\n",
       "    <tr>\n",
       "      <th>2</th>\n",
       "      <td>532283.0</td>\n",
       "      <td>40.659424</td>\n",
       "      <td>-73.949646</td>\n",
       "      <td>40.644447</td>\n",
       "      <td>-73.782143</td>\n",
       "    </tr>\n",
       "    <tr>\n",
       "      <th>3</th>\n",
       "      <td>532300.0</td>\n",
       "      <td>40.598606</td>\n",
       "      <td>-73.965324</td>\n",
       "      <td>40.641693</td>\n",
       "      <td>-73.788269</td>\n",
       "    </tr>\n",
       "    <tr>\n",
       "      <th>4</th>\n",
       "      <td>532358.0</td>\n",
       "      <td>40.659306</td>\n",
       "      <td>-73.990082</td>\n",
       "      <td>40.666798</td>\n",
       "      <td>-73.981750</td>\n",
       "    </tr>\n",
       "  </tbody>\n",
       "</table>\n",
       "</div>"
      ],
      "text/plain": [
       "          0          1          2          3          4\n",
       "0  532182.0  40.590717 -73.886681  40.590717 -73.886681\n",
       "1  532208.0  40.666523 -73.931274  40.649086 -73.964058\n",
       "2  532283.0  40.659424 -73.949646  40.644447 -73.782143\n",
       "3  532300.0  40.598606 -73.965324  40.641693 -73.788269\n",
       "4  532358.0  40.659306 -73.990082  40.666798 -73.981750"
      ]
     },
     "execution_count": 199,
     "metadata": {},
     "output_type": "execute_result"
    }
   ],
   "source": [
    "c10=pd.DataFrame(cluster10)\n",
    "c10.head()\n"
   ]
  },
  {
   "cell_type": "code",
   "execution_count": 201,
   "metadata": {},
   "outputs": [
    {
     "data": {
      "text/plain": [
       "229202"
      ]
     },
     "execution_count": 201,
     "metadata": {},
     "output_type": "execute_result"
    }
   ],
   "source": [
    "len(c1+c3+c8+c7+c6+c9+c10+c4)"
   ]
  },
  {
   "cell_type": "code",
   "execution_count": 211,
   "metadata": {},
   "outputs": [
    {
     "data": {
      "text/html": [
       "<div>\n",
       "<style>\n",
       "    .dataframe thead tr:only-child th {\n",
       "        text-align: right;\n",
       "    }\n",
       "\n",
       "    .dataframe thead th {\n",
       "        text-align: left;\n",
       "    }\n",
       "\n",
       "    .dataframe tbody tr th {\n",
       "        vertical-align: top;\n",
       "    }\n",
       "</style>\n",
       "<table border=\"1\" class=\"dataframe\">\n",
       "  <thead>\n",
       "    <tr style=\"text-align: right;\">\n",
       "      <th></th>\n",
       "      <th>id</th>\n",
       "      <th>1</th>\n",
       "      <th>2</th>\n",
       "      <th>3</th>\n",
       "      <th>4</th>\n",
       "    </tr>\n",
       "  </thead>\n",
       "  <tbody>\n",
       "    <tr>\n",
       "      <th>0</th>\n",
       "      <td>403263.0</td>\n",
       "      <td>40.692371</td>\n",
       "      <td>-73.937054</td>\n",
       "      <td>40.709056</td>\n",
       "      <td>-74.010434</td>\n",
       "    </tr>\n",
       "    <tr>\n",
       "      <th>1</th>\n",
       "      <td>403281.0</td>\n",
       "      <td>40.680983</td>\n",
       "      <td>-73.950048</td>\n",
       "      <td>40.685153</td>\n",
       "      <td>-73.941110</td>\n",
       "    </tr>\n",
       "    <tr>\n",
       "      <th>2</th>\n",
       "      <td>403286.0</td>\n",
       "      <td>40.701485</td>\n",
       "      <td>-73.986569</td>\n",
       "      <td>40.702772</td>\n",
       "      <td>-73.993836</td>\n",
       "    </tr>\n",
       "    <tr>\n",
       "      <th>3</th>\n",
       "      <td>403394.0</td>\n",
       "      <td>40.713126</td>\n",
       "      <td>-73.984844</td>\n",
       "      <td>40.714275</td>\n",
       "      <td>-73.989900</td>\n",
       "    </tr>\n",
       "    <tr>\n",
       "      <th>4</th>\n",
       "      <td>403401.0</td>\n",
       "      <td>40.710451</td>\n",
       "      <td>-73.960876</td>\n",
       "      <td>40.717452</td>\n",
       "      <td>-73.958509</td>\n",
       "    </tr>\n",
       "  </tbody>\n",
       "</table>\n",
       "</div>"
      ],
      "text/plain": [
       "         id          1          2          3          4\n",
       "0  403263.0  40.692371 -73.937054  40.709056 -74.010434\n",
       "1  403281.0  40.680983 -73.950048  40.685153 -73.941110\n",
       "2  403286.0  40.701485 -73.986569  40.702772 -73.993836\n",
       "3  403394.0  40.713126 -73.984844  40.714275 -73.989900\n",
       "4  403401.0  40.710451 -73.960876  40.717452 -73.958509"
      ]
     },
     "execution_count": 211,
     "metadata": {},
     "output_type": "execute_result"
    }
   ],
   "source": [
    "c4.rename(columns={0: 'id'}, inplace=True)\n",
    "c4.head()"
   ]
  },
  {
   "cell_type": "code",
   "execution_count": 220,
   "metadata": {},
   "outputs": [
    {
     "data": {
      "text/html": [
       "<div>\n",
       "<style>\n",
       "    .dataframe thead tr:only-child th {\n",
       "        text-align: right;\n",
       "    }\n",
       "\n",
       "    .dataframe thead th {\n",
       "        text-align: left;\n",
       "    }\n",
       "\n",
       "    .dataframe tbody tr th {\n",
       "        vertical-align: top;\n",
       "    }\n",
       "</style>\n",
       "<table border=\"1\" class=\"dataframe\">\n",
       "  <thead>\n",
       "    <tr style=\"text-align: right;\">\n",
       "      <th></th>\n",
       "      <th>id</th>\n",
       "      <th>1</th>\n",
       "      <th>2</th>\n",
       "      <th>3</th>\n",
       "      <th>4</th>\n",
       "    </tr>\n",
       "  </thead>\n",
       "  <tbody>\n",
       "    <tr>\n",
       "      <th>0</th>\n",
       "      <td>403263.0</td>\n",
       "      <td>40.692371</td>\n",
       "      <td>-73.937054</td>\n",
       "      <td>40.709056</td>\n",
       "      <td>-74.010434</td>\n",
       "    </tr>\n",
       "    <tr>\n",
       "      <th>1</th>\n",
       "      <td>403281.0</td>\n",
       "      <td>40.680983</td>\n",
       "      <td>-73.950048</td>\n",
       "      <td>40.685153</td>\n",
       "      <td>-73.941110</td>\n",
       "    </tr>\n",
       "    <tr>\n",
       "      <th>2</th>\n",
       "      <td>403286.0</td>\n",
       "      <td>40.701485</td>\n",
       "      <td>-73.986569</td>\n",
       "      <td>40.702772</td>\n",
       "      <td>-73.993836</td>\n",
       "    </tr>\n",
       "    <tr>\n",
       "      <th>3</th>\n",
       "      <td>403394.0</td>\n",
       "      <td>40.713126</td>\n",
       "      <td>-73.984844</td>\n",
       "      <td>40.714275</td>\n",
       "      <td>-73.989900</td>\n",
       "    </tr>\n",
       "    <tr>\n",
       "      <th>4</th>\n",
       "      <td>403401.0</td>\n",
       "      <td>40.710451</td>\n",
       "      <td>-73.960876</td>\n",
       "      <td>40.717452</td>\n",
       "      <td>-73.958509</td>\n",
       "    </tr>\n",
       "  </tbody>\n",
       "</table>\n",
       "</div>"
      ],
      "text/plain": [
       "         id          1          2          3          4\n",
       "0  403263.0  40.692371 -73.937054  40.709056 -74.010434\n",
       "1  403281.0  40.680983 -73.950048  40.685153 -73.941110\n",
       "2  403286.0  40.701485 -73.986569  40.702772 -73.993836\n",
       "3  403394.0  40.713126 -73.984844  40.714275 -73.989900\n",
       "4  403401.0  40.710451 -73.960876  40.717452 -73.958509"
      ]
     },
     "execution_count": 220,
     "metadata": {},
     "output_type": "execute_result"
    }
   ],
   "source": [
    "c4.head()"
   ]
  },
  {
   "cell_type": "code",
   "execution_count": 223,
   "metadata": {
    "collapsed": true
   },
   "outputs": [],
   "source": [
    "bike1=bike[:500000]"
   ]
  },
  {
   "cell_type": "code",
   "execution_count": 243,
   "metadata": {
    "collapsed": true
   },
   "outputs": [],
   "source": [
    "cab1=cab[:500000]"
   ]
  },
  {
   "cell_type": "code",
   "execution_count": 260,
   "metadata": {},
   "outputs": [
    {
     "data": {
      "text/html": [
       "<div>\n",
       "<style>\n",
       "    .dataframe thead tr:only-child th {\n",
       "        text-align: right;\n",
       "    }\n",
       "\n",
       "    .dataframe thead th {\n",
       "        text-align: left;\n",
       "    }\n",
       "\n",
       "    .dataframe tbody tr th {\n",
       "        vertical-align: top;\n",
       "    }\n",
       "</style>\n",
       "<table border=\"1\" class=\"dataframe\">\n",
       "  <thead>\n",
       "    <tr style=\"text-align: right;\">\n",
       "      <th></th>\n",
       "      <th>pick_sid</th>\n",
       "      <th>pick_sname</th>\n",
       "      <th>pick_blat</th>\n",
       "      <th>pick_blong</th>\n",
       "      <th>drop_sid</th>\n",
       "      <th>drop_sname</th>\n",
       "      <th>drop_blat</th>\n",
       "      <th>drop_blong</th>\n",
       "      <th>user_type</th>\n",
       "      <th>pick_btime</th>\n",
       "      <th>drop_btime</th>\n",
       "      <th>pick_bdate</th>\n",
       "      <th>drop_bdate</th>\n",
       "      <th>type</th>\n",
       "      <th>fare</th>\n",
       "      <th>trip_dist</th>\n",
       "      <th>passenger_count</th>\n",
       "      <th>VendorID</th>\n",
       "    </tr>\n",
       "  </thead>\n",
       "  <tbody>\n",
       "    <tr>\n",
       "      <th>0</th>\n",
       "      <td>536</td>\n",
       "      <td>1 Ave &amp; E 30 St</td>\n",
       "      <td>40.741444</td>\n",
       "      <td>-73.975361</td>\n",
       "      <td>497</td>\n",
       "      <td>E 17 St &amp; Broadway</td>\n",
       "      <td>40.737050</td>\n",
       "      <td>-73.990093</td>\n",
       "      <td>Subscriber</td>\n",
       "      <td>00:00:03</td>\n",
       "      <td>00:09:02</td>\n",
       "      <td>5/1/2016</td>\n",
       "      <td>5/1/2016</td>\n",
       "      <td>0</td>\n",
       "      <td>0</td>\n",
       "      <td>0</td>\n",
       "      <td>0</td>\n",
       "      <td>0</td>\n",
       "    </tr>\n",
       "    <tr>\n",
       "      <th>1</th>\n",
       "      <td>361</td>\n",
       "      <td>Allen St &amp; Hester St</td>\n",
       "      <td>40.716059</td>\n",
       "      <td>-73.991908</td>\n",
       "      <td>340</td>\n",
       "      <td>Madison St &amp; Clinton St</td>\n",
       "      <td>40.712690</td>\n",
       "      <td>-73.987763</td>\n",
       "      <td>Subscriber</td>\n",
       "      <td>00:00:04</td>\n",
       "      <td>00:03:49</td>\n",
       "      <td>5/1/2016</td>\n",
       "      <td>5/1/2016</td>\n",
       "      <td>0</td>\n",
       "      <td>0</td>\n",
       "      <td>0</td>\n",
       "      <td>0</td>\n",
       "      <td>0</td>\n",
       "    </tr>\n",
       "    <tr>\n",
       "      <th>2</th>\n",
       "      <td>301</td>\n",
       "      <td>E 2 St &amp; Avenue B</td>\n",
       "      <td>40.722174</td>\n",
       "      <td>-73.983688</td>\n",
       "      <td>311</td>\n",
       "      <td>Norfolk St &amp; Broome St</td>\n",
       "      <td>40.717227</td>\n",
       "      <td>-73.988021</td>\n",
       "      <td>Subscriber</td>\n",
       "      <td>00:00:14</td>\n",
       "      <td>00:05:43</td>\n",
       "      <td>5/1/2016</td>\n",
       "      <td>5/1/2016</td>\n",
       "      <td>0</td>\n",
       "      <td>0</td>\n",
       "      <td>0</td>\n",
       "      <td>0</td>\n",
       "      <td>0</td>\n",
       "    </tr>\n",
       "    <tr>\n",
       "      <th>3</th>\n",
       "      <td>3141</td>\n",
       "      <td>1 Ave &amp; E 68 St</td>\n",
       "      <td>40.765005</td>\n",
       "      <td>-73.958185</td>\n",
       "      <td>237</td>\n",
       "      <td>E 11 St &amp; 2 Ave</td>\n",
       "      <td>40.730473</td>\n",
       "      <td>-73.986724</td>\n",
       "      <td>Customer</td>\n",
       "      <td>00:00:20</td>\n",
       "      <td>00:20:17</td>\n",
       "      <td>5/1/2016</td>\n",
       "      <td>5/1/2016</td>\n",
       "      <td>0</td>\n",
       "      <td>0</td>\n",
       "      <td>0</td>\n",
       "      <td>0</td>\n",
       "      <td>0</td>\n",
       "    </tr>\n",
       "    <tr>\n",
       "      <th>4</th>\n",
       "      <td>492</td>\n",
       "      <td>W 33 St &amp; 7 Ave</td>\n",
       "      <td>40.750200</td>\n",
       "      <td>-73.990931</td>\n",
       "      <td>228</td>\n",
       "      <td>E 48 St &amp; 3 Ave</td>\n",
       "      <td>40.754601</td>\n",
       "      <td>-73.971879</td>\n",
       "      <td>Subscriber</td>\n",
       "      <td>00:00:26</td>\n",
       "      <td>00:13:00</td>\n",
       "      <td>5/1/2016</td>\n",
       "      <td>5/1/2016</td>\n",
       "      <td>0</td>\n",
       "      <td>0</td>\n",
       "      <td>0</td>\n",
       "      <td>0</td>\n",
       "      <td>0</td>\n",
       "    </tr>\n",
       "  </tbody>\n",
       "</table>\n",
       "</div>"
      ],
      "text/plain": [
       "   pick_sid            pick_sname  pick_blat  pick_blong  drop_sid  \\\n",
       "0       536       1 Ave & E 30 St  40.741444  -73.975361       497   \n",
       "1       361  Allen St & Hester St  40.716059  -73.991908       340   \n",
       "2       301     E 2 St & Avenue B  40.722174  -73.983688       311   \n",
       "3      3141       1 Ave & E 68 St  40.765005  -73.958185       237   \n",
       "4       492       W 33 St & 7 Ave  40.750200  -73.990931       228   \n",
       "\n",
       "                drop_sname  drop_blat  drop_blong   user_type pick_btime  \\\n",
       "0       E 17 St & Broadway  40.737050  -73.990093  Subscriber   00:00:03   \n",
       "1  Madison St & Clinton St  40.712690  -73.987763  Subscriber   00:00:04   \n",
       "2   Norfolk St & Broome St  40.717227  -73.988021  Subscriber   00:00:14   \n",
       "3          E 11 St & 2 Ave  40.730473  -73.986724    Customer   00:00:20   \n",
       "4          E 48 St & 3 Ave  40.754601  -73.971879  Subscriber   00:00:26   \n",
       "\n",
       "  drop_btime pick_bdate drop_bdate  type  fare  trip_dist  passenger_count  \\\n",
       "0   00:09:02   5/1/2016   5/1/2016     0     0          0                0   \n",
       "1   00:03:49   5/1/2016   5/1/2016     0     0          0                0   \n",
       "2   00:05:43   5/1/2016   5/1/2016     0     0          0                0   \n",
       "3   00:20:17   5/1/2016   5/1/2016     0     0          0                0   \n",
       "4   00:13:00   5/1/2016   5/1/2016     0     0          0                0   \n",
       "\n",
       "   VendorID  \n",
       "0         0  \n",
       "1         0  \n",
       "2         0  \n",
       "3         0  \n",
       "4         0  "
      ]
     },
     "execution_count": 260,
     "metadata": {},
     "output_type": "execute_result"
    }
   ],
   "source": [
    "bike1.head()"
   ]
  },
  {
   "cell_type": "code",
   "execution_count": 245,
   "metadata": {},
   "outputs": [
    {
     "name": "stderr",
     "output_type": "stream",
     "text": [
      "/usr/local/lib/python3.5/dist-packages/pandas/core/frame.py:2746: SettingWithCopyWarning: \n",
      "A value is trying to be set on a copy of a slice from a DataFrame\n",
      "\n",
      "See the caveats in the documentation: http://pandas.pydata.org/pandas-docs/stable/indexing.html#indexing-view-versus-copy\n",
      "  **kwargs)\n"
     ]
    }
   ],
   "source": [
    "cab1.rename(columns={'pick_long': 'pick_blong','pick_lat': 'pick_blat','drop_long': 'drop_blong','drop_lat': 'drop_blat','pick_time': 'pick_btime','drop_time': 'drop_btime','drop_date': 'drop_bdate','pick_date': 'pick_bdate'}, inplace=True)"
   ]
  },
  {
   "cell_type": "code",
   "execution_count": 259,
   "metadata": {},
   "outputs": [
    {
     "data": {
      "text/html": [
       "<div>\n",
       "<style>\n",
       "    .dataframe thead tr:only-child th {\n",
       "        text-align: right;\n",
       "    }\n",
       "\n",
       "    .dataframe thead th {\n",
       "        text-align: left;\n",
       "    }\n",
       "\n",
       "    .dataframe tbody tr th {\n",
       "        vertical-align: top;\n",
       "    }\n",
       "</style>\n",
       "<table border=\"1\" class=\"dataframe\">\n",
       "  <thead>\n",
       "    <tr style=\"text-align: right;\">\n",
       "      <th></th>\n",
       "      <th>VendorID</th>\n",
       "      <th>passenger_count</th>\n",
       "      <th>trip_dist</th>\n",
       "      <th>pick_blong</th>\n",
       "      <th>pick_blat</th>\n",
       "      <th>drop_blong</th>\n",
       "      <th>drop_blat</th>\n",
       "      <th>fare</th>\n",
       "      <th>pick_btime</th>\n",
       "      <th>drop_btime</th>\n",
       "      <th>pick_bdate</th>\n",
       "      <th>drop_bdate</th>\n",
       "      <th>pick_sname</th>\n",
       "      <th>drop_sname</th>\n",
       "      <th>type</th>\n",
       "      <th>duration</th>\n",
       "      <th>pick_sid</th>\n",
       "      <th>drop_sid</th>\n",
       "      <th>user_type</th>\n",
       "    </tr>\n",
       "  </thead>\n",
       "  <tbody>\n",
       "    <tr>\n",
       "      <th>0</th>\n",
       "      <td>1</td>\n",
       "      <td>1</td>\n",
       "      <td>3.60</td>\n",
       "      <td>-73.985901</td>\n",
       "      <td>40.768040</td>\n",
       "      <td>-73.983986</td>\n",
       "      <td>40.730099</td>\n",
       "      <td>15.0</td>\n",
       "      <td>00:00:00</td>\n",
       "      <td>00:17:31</td>\n",
       "      <td>2016-05-01</td>\n",
       "      <td>2016-05-01</td>\n",
       "      <td>na</td>\n",
       "      <td>na</td>\n",
       "      <td>1</td>\n",
       "      <td>0</td>\n",
       "      <td>999999</td>\n",
       "      <td>111111</td>\n",
       "      <td>cabrider</td>\n",
       "    </tr>\n",
       "    <tr>\n",
       "      <th>1</th>\n",
       "      <td>2</td>\n",
       "      <td>1</td>\n",
       "      <td>1.68</td>\n",
       "      <td>-73.991577</td>\n",
       "      <td>40.744751</td>\n",
       "      <td>-73.975700</td>\n",
       "      <td>40.765469</td>\n",
       "      <td>7.5</td>\n",
       "      <td>00:00:00</td>\n",
       "      <td>00:07:31</td>\n",
       "      <td>2016-05-01</td>\n",
       "      <td>2016-05-01</td>\n",
       "      <td>na</td>\n",
       "      <td>na</td>\n",
       "      <td>1</td>\n",
       "      <td>0</td>\n",
       "      <td>999999</td>\n",
       "      <td>111111</td>\n",
       "      <td>cabrider</td>\n",
       "    </tr>\n",
       "    <tr>\n",
       "      <th>2</th>\n",
       "      <td>2</td>\n",
       "      <td>6</td>\n",
       "      <td>1.09</td>\n",
       "      <td>-73.993073</td>\n",
       "      <td>40.741573</td>\n",
       "      <td>-73.980995</td>\n",
       "      <td>40.744633</td>\n",
       "      <td>6.5</td>\n",
       "      <td>00:00:00</td>\n",
       "      <td>00:07:01</td>\n",
       "      <td>2016-05-01</td>\n",
       "      <td>2016-05-01</td>\n",
       "      <td>na</td>\n",
       "      <td>na</td>\n",
       "      <td>1</td>\n",
       "      <td>0</td>\n",
       "      <td>999999</td>\n",
       "      <td>111111</td>\n",
       "      <td>cabrider</td>\n",
       "    </tr>\n",
       "    <tr>\n",
       "      <th>3</th>\n",
       "      <td>2</td>\n",
       "      <td>1</td>\n",
       "      <td>4.21</td>\n",
       "      <td>-73.991943</td>\n",
       "      <td>40.684601</td>\n",
       "      <td>-74.002258</td>\n",
       "      <td>40.733002</td>\n",
       "      <td>17.0</td>\n",
       "      <td>00:00:00</td>\n",
       "      <td>00:19:47</td>\n",
       "      <td>2016-05-01</td>\n",
       "      <td>2016-05-01</td>\n",
       "      <td>na</td>\n",
       "      <td>na</td>\n",
       "      <td>1</td>\n",
       "      <td>0</td>\n",
       "      <td>999999</td>\n",
       "      <td>111111</td>\n",
       "      <td>cabrider</td>\n",
       "    </tr>\n",
       "    <tr>\n",
       "      <th>4</th>\n",
       "      <td>2</td>\n",
       "      <td>1</td>\n",
       "      <td>0.56</td>\n",
       "      <td>-74.005280</td>\n",
       "      <td>40.740192</td>\n",
       "      <td>-73.997498</td>\n",
       "      <td>40.737564</td>\n",
       "      <td>6.0</td>\n",
       "      <td>00:00:00</td>\n",
       "      <td>00:06:39</td>\n",
       "      <td>2016-05-01</td>\n",
       "      <td>2016-05-01</td>\n",
       "      <td>na</td>\n",
       "      <td>na</td>\n",
       "      <td>1</td>\n",
       "      <td>0</td>\n",
       "      <td>999999</td>\n",
       "      <td>111111</td>\n",
       "      <td>cabrider</td>\n",
       "    </tr>\n",
       "  </tbody>\n",
       "</table>\n",
       "</div>"
      ],
      "text/plain": [
       "   VendorID  passenger_count  trip_dist  pick_blong  pick_blat  drop_blong  \\\n",
       "0         1                1       3.60  -73.985901  40.768040  -73.983986   \n",
       "1         2                1       1.68  -73.991577  40.744751  -73.975700   \n",
       "2         2                6       1.09  -73.993073  40.741573  -73.980995   \n",
       "3         2                1       4.21  -73.991943  40.684601  -74.002258   \n",
       "4         2                1       0.56  -74.005280  40.740192  -73.997498   \n",
       "\n",
       "   drop_blat  fare pick_btime drop_btime  pick_bdate  drop_bdate pick_sname  \\\n",
       "0  40.730099  15.0   00:00:00   00:17:31  2016-05-01  2016-05-01         na   \n",
       "1  40.765469   7.5   00:00:00   00:07:31  2016-05-01  2016-05-01         na   \n",
       "2  40.744633   6.5   00:00:00   00:07:01  2016-05-01  2016-05-01         na   \n",
       "3  40.733002  17.0   00:00:00   00:19:47  2016-05-01  2016-05-01         na   \n",
       "4  40.737564   6.0   00:00:00   00:06:39  2016-05-01  2016-05-01         na   \n",
       "\n",
       "  drop_sname  type  duration  pick_sid  drop_sid user_type  \n",
       "0         na     1         0    999999    111111  cabrider  \n",
       "1         na     1         0    999999    111111  cabrider  \n",
       "2         na     1         0    999999    111111  cabrider  \n",
       "3         na     1         0    999999    111111  cabrider  \n",
       "4         na     1         0    999999    111111  cabrider  "
      ]
     },
     "execution_count": 259,
     "metadata": {},
     "output_type": "execute_result"
    }
   ],
   "source": [
    "cab1.head()"
   ]
  },
  {
   "cell_type": "code",
   "execution_count": 251,
   "metadata": {},
   "outputs": [
    {
     "name": "stderr",
     "output_type": "stream",
     "text": [
      "/usr/local/lib/python3.5/dist-packages/ipykernel_launcher.py:1: SettingWithCopyWarning: \n",
      "A value is trying to be set on a copy of a slice from a DataFrame\n",
      "\n",
      "See the caveats in the documentation: http://pandas.pydata.org/pandas-docs/stable/indexing.html#indexing-view-versus-copy\n",
      "  \"\"\"Entry point for launching an IPython kernel.\n"
     ]
    }
   ],
   "source": [
    "bike1.drop(['duration'],axis = 1, inplace = True)"
   ]
  },
  {
   "cell_type": "code",
   "execution_count": 255,
   "metadata": {},
   "outputs": [
    {
     "name": "stderr",
     "output_type": "stream",
     "text": [
      "/usr/local/lib/python3.5/dist-packages/ipykernel_launcher.py:1: SettingWithCopyWarning: \n",
      "A value is trying to be set on a copy of a slice from a DataFrame.\n",
      "Try using .loc[row_indexer,col_indexer] = value instead\n",
      "\n",
      "See the caveats in the documentation: http://pandas.pydata.org/pandas-docs/stable/indexing.html#indexing-view-versus-copy\n",
      "  \"\"\"Entry point for launching an IPython kernel.\n"
     ]
    }
   ],
   "source": [
    "cab1['type']=1"
   ]
  },
  {
   "cell_type": "code",
   "execution_count": 256,
   "metadata": {},
   "outputs": [
    {
     "name": "stderr",
     "output_type": "stream",
     "text": [
      "/usr/local/lib/python3.5/dist-packages/ipykernel_launcher.py:1: SettingWithCopyWarning: \n",
      "A value is trying to be set on a copy of a slice from a DataFrame.\n",
      "Try using .loc[row_indexer,col_indexer] = value instead\n",
      "\n",
      "See the caveats in the documentation: http://pandas.pydata.org/pandas-docs/stable/indexing.html#indexing-view-versus-copy\n",
      "  \"\"\"Entry point for launching an IPython kernel.\n"
     ]
    }
   ],
   "source": [
    "bike1['type']=0"
   ]
  },
  {
   "cell_type": "code",
   "execution_count": 257,
   "metadata": {},
   "outputs": [
    {
     "name": "stderr",
     "output_type": "stream",
     "text": [
      "/usr/local/lib/python3.5/dist-packages/ipykernel_launcher.py:1: SettingWithCopyWarning: \n",
      "A value is trying to be set on a copy of a slice from a DataFrame.\n",
      "Try using .loc[row_indexer,col_indexer] = value instead\n",
      "\n",
      "See the caveats in the documentation: http://pandas.pydata.org/pandas-docs/stable/indexing.html#indexing-view-versus-copy\n",
      "  \"\"\"Entry point for launching an IPython kernel.\n",
      "/usr/local/lib/python3.5/dist-packages/ipykernel_launcher.py:2: SettingWithCopyWarning: \n",
      "A value is trying to be set on a copy of a slice from a DataFrame.\n",
      "Try using .loc[row_indexer,col_indexer] = value instead\n",
      "\n",
      "See the caveats in the documentation: http://pandas.pydata.org/pandas-docs/stable/indexing.html#indexing-view-versus-copy\n",
      "  \n",
      "/usr/local/lib/python3.5/dist-packages/ipykernel_launcher.py:3: SettingWithCopyWarning: \n",
      "A value is trying to be set on a copy of a slice from a DataFrame.\n",
      "Try using .loc[row_indexer,col_indexer] = value instead\n",
      "\n",
      "See the caveats in the documentation: http://pandas.pydata.org/pandas-docs/stable/indexing.html#indexing-view-versus-copy\n",
      "  This is separate from the ipykernel package so we can avoid doing imports until\n",
      "/usr/local/lib/python3.5/dist-packages/ipykernel_launcher.py:4: SettingWithCopyWarning: \n",
      "A value is trying to be set on a copy of a slice from a DataFrame.\n",
      "Try using .loc[row_indexer,col_indexer] = value instead\n",
      "\n",
      "See the caveats in the documentation: http://pandas.pydata.org/pandas-docs/stable/indexing.html#indexing-view-versus-copy\n",
      "  after removing the cwd from sys.path.\n"
     ]
    }
   ],
   "source": [
    "bike1['fare']=0\n",
    "bike1['trip_dist']=0\n",
    "bike1['passenger_count']=0\n",
    "bike1['VendorID']=0"
   ]
  },
  {
   "cell_type": "code",
   "execution_count": 258,
   "metadata": {},
   "outputs": [
    {
     "name": "stderr",
     "output_type": "stream",
     "text": [
      "/usr/local/lib/python3.5/dist-packages/ipykernel_launcher.py:2: SettingWithCopyWarning: \n",
      "A value is trying to be set on a copy of a slice from a DataFrame.\n",
      "Try using .loc[row_indexer,col_indexer] = value instead\n",
      "\n",
      "See the caveats in the documentation: http://pandas.pydata.org/pandas-docs/stable/indexing.html#indexing-view-versus-copy\n",
      "  \n",
      "/usr/local/lib/python3.5/dist-packages/ipykernel_launcher.py:3: SettingWithCopyWarning: \n",
      "A value is trying to be set on a copy of a slice from a DataFrame.\n",
      "Try using .loc[row_indexer,col_indexer] = value instead\n",
      "\n",
      "See the caveats in the documentation: http://pandas.pydata.org/pandas-docs/stable/indexing.html#indexing-view-versus-copy\n",
      "  This is separate from the ipykernel package so we can avoid doing imports until\n",
      "/usr/local/lib/python3.5/dist-packages/ipykernel_launcher.py:4: SettingWithCopyWarning: \n",
      "A value is trying to be set on a copy of a slice from a DataFrame.\n",
      "Try using .loc[row_indexer,col_indexer] = value instead\n",
      "\n",
      "See the caveats in the documentation: http://pandas.pydata.org/pandas-docs/stable/indexing.html#indexing-view-versus-copy\n",
      "  after removing the cwd from sys.path.\n",
      "/usr/local/lib/python3.5/dist-packages/ipykernel_launcher.py:5: SettingWithCopyWarning: \n",
      "A value is trying to be set on a copy of a slice from a DataFrame.\n",
      "Try using .loc[row_indexer,col_indexer] = value instead\n",
      "\n",
      "See the caveats in the documentation: http://pandas.pydata.org/pandas-docs/stable/indexing.html#indexing-view-versus-copy\n",
      "  \"\"\"\n"
     ]
    }
   ],
   "source": [
    "\n",
    "cab1['duration']=0\n",
    "cab1['pick_sid']=999999\n",
    "cab1['drop_sid']=111111\n",
    "cab1['user_type']='cabrider'\n"
   ]
  },
  {
   "cell_type": "code",
   "execution_count": 261,
   "metadata": {
    "collapsed": true
   },
   "outputs": [],
   "source": [
    "data2 = pd.concat([bike1,cab1])"
   ]
  },
  {
   "cell_type": "code",
   "execution_count": 262,
   "metadata": {},
   "outputs": [
    {
     "data": {
      "text/plain": [
       "(1000000, 19)"
      ]
     },
     "execution_count": 262,
     "metadata": {},
     "output_type": "execute_result"
    }
   ],
   "source": [
    "data2.shape"
   ]
  },
  {
   "cell_type": "code",
   "execution_count": 295,
   "metadata": {
    "collapsed": true
   },
   "outputs": [],
   "source": [
    "pd.set_option('display.max_rows', 10)"
   ]
  },
  {
   "cell_type": "markdown",
   "metadata": {},
   "source": [
    "merging the cluster dataframes with the original data plugging back the features of each row in the clusters \n",
    "to understand and analyze the properties."
   ]
  },
  {
   "cell_type": "code",
   "execution_count": 309,
   "metadata": {
    "collapsed": true
   },
   "outputs": [],
   "source": [
    "m4 = pd.merge(left=data2,right=c4, left_on='id', right_on= 'id')"
   ]
  },
  {
   "cell_type": "code",
   "execution_count": 265,
   "metadata": {},
   "outputs": [
    {
     "data": {
      "text/plain": [
       "(107744, 24)"
      ]
     },
     "execution_count": 265,
     "metadata": {},
     "output_type": "execute_result"
    }
   ],
   "source": [
    "m1.shape"
   ]
  },
  {
   "cell_type": "code",
   "execution_count": 302,
   "metadata": {},
   "outputs": [
    {
     "data": {
      "text/html": [
       "<div>\n",
       "<style>\n",
       "    .dataframe thead tr:only-child th {\n",
       "        text-align: right;\n",
       "    }\n",
       "\n",
       "    .dataframe thead th {\n",
       "        text-align: left;\n",
       "    }\n",
       "\n",
       "    .dataframe tbody tr th {\n",
       "        vertical-align: top;\n",
       "    }\n",
       "</style>\n",
       "<table border=\"1\" class=\"dataframe\">\n",
       "  <thead>\n",
       "    <tr style=\"text-align: right;\">\n",
       "      <th></th>\n",
       "      <th>id</th>\n",
       "      <th>VendorID</th>\n",
       "      <th>drop_bdate</th>\n",
       "      <th>drop_blat</th>\n",
       "      <th>drop_blong</th>\n",
       "      <th>drop_btime</th>\n",
       "      <th>drop_sid</th>\n",
       "      <th>drop_sname</th>\n",
       "      <th>duration</th>\n",
       "      <th>fare</th>\n",
       "      <th>passenger_count</th>\n",
       "      <th>pick_bdate</th>\n",
       "      <th>pick_blat</th>\n",
       "      <th>pick_blong</th>\n",
       "      <th>pick_btime</th>\n",
       "      <th>pick_sid</th>\n",
       "      <th>pick_sname</th>\n",
       "      <th>trip_dist</th>\n",
       "      <th>type</th>\n",
       "      <th>user_type</th>\n",
       "      <th>1</th>\n",
       "      <th>2</th>\n",
       "      <th>3</th>\n",
       "      <th>4</th>\n",
       "      <th>trip</th>\n",
       "    </tr>\n",
       "  </thead>\n",
       "  <tbody>\n",
       "    <tr>\n",
       "      <th>0</th>\n",
       "      <td>416296</td>\n",
       "      <td>0</td>\n",
       "      <td>5/12/2016</td>\n",
       "      <td>40.686501</td>\n",
       "      <td>-73.965633</td>\n",
       "      <td>21:41:57</td>\n",
       "      <td>275</td>\n",
       "      <td>Washington Ave &amp; Greene Ave</td>\n",
       "      <td>NaN</td>\n",
       "      <td>0.0</td>\n",
       "      <td>0</td>\n",
       "      <td>5/12/2016</td>\n",
       "      <td>40.685160</td>\n",
       "      <td>-73.977114</td>\n",
       "      <td>21:36:28</td>\n",
       "      <td>3222</td>\n",
       "      <td>Hanson Pl &amp; St Felix St</td>\n",
       "      <td>0.0</td>\n",
       "      <td>0</td>\n",
       "      <td>Subscriber</td>\n",
       "      <td>40.686501</td>\n",
       "      <td>-73.965633</td>\n",
       "      <td>40.685160</td>\n",
       "      <td>-73.977114</td>\n",
       "      <td>Hanson Pl &amp; St Felix StWashington Ave &amp; Greene...</td>\n",
       "    </tr>\n",
       "    <tr>\n",
       "      <th>1</th>\n",
       "      <td>416341</td>\n",
       "      <td>0</td>\n",
       "      <td>5/12/2016</td>\n",
       "      <td>40.693261</td>\n",
       "      <td>-73.968896</td>\n",
       "      <td>21:47:34</td>\n",
       "      <td>366</td>\n",
       "      <td>Clinton Ave &amp; Myrtle Ave</td>\n",
       "      <td>NaN</td>\n",
       "      <td>0.0</td>\n",
       "      <td>0</td>\n",
       "      <td>5/12/2016</td>\n",
       "      <td>40.688226</td>\n",
       "      <td>-73.979382</td>\n",
       "      <td>21:37:49</td>\n",
       "      <td>243</td>\n",
       "      <td>Fulton St &amp; Rockwell Pl</td>\n",
       "      <td>0.0</td>\n",
       "      <td>0</td>\n",
       "      <td>Subscriber</td>\n",
       "      <td>40.693261</td>\n",
       "      <td>-73.968896</td>\n",
       "      <td>40.688226</td>\n",
       "      <td>-73.979382</td>\n",
       "      <td>Fulton St &amp; Rockwell PlClinton Ave &amp; Myrtle Ave</td>\n",
       "    </tr>\n",
       "    <tr>\n",
       "      <th>2</th>\n",
       "      <td>416422</td>\n",
       "      <td>0</td>\n",
       "      <td>5/12/2016</td>\n",
       "      <td>40.692362</td>\n",
       "      <td>-73.986317</td>\n",
       "      <td>21:52:35</td>\n",
       "      <td>323</td>\n",
       "      <td>Lawrence St &amp; Willoughby St</td>\n",
       "      <td>NaN</td>\n",
       "      <td>0.0</td>\n",
       "      <td>0</td>\n",
       "      <td>5/12/2016</td>\n",
       "      <td>40.699918</td>\n",
       "      <td>-73.989718</td>\n",
       "      <td>21:40:37</td>\n",
       "      <td>321</td>\n",
       "      <td>Cadman Plaza E &amp; Red Cross Pl</td>\n",
       "      <td>0.0</td>\n",
       "      <td>0</td>\n",
       "      <td>Subscriber</td>\n",
       "      <td>40.692362</td>\n",
       "      <td>-73.986317</td>\n",
       "      <td>40.699918</td>\n",
       "      <td>-73.989718</td>\n",
       "      <td>Cadman Plaza E &amp; Red Cross PlLawrence St &amp; Wil...</td>\n",
       "    </tr>\n",
       "    <tr>\n",
       "      <th>3</th>\n",
       "      <td>416424</td>\n",
       "      <td>0</td>\n",
       "      <td>5/12/2016</td>\n",
       "      <td>40.684568</td>\n",
       "      <td>-73.958811</td>\n",
       "      <td>21:43:21</td>\n",
       "      <td>289</td>\n",
       "      <td>Monroe St &amp; Classon Ave</td>\n",
       "      <td>NaN</td>\n",
       "      <td>0.0</td>\n",
       "      <td>0</td>\n",
       "      <td>5/12/2016</td>\n",
       "      <td>40.685144</td>\n",
       "      <td>-73.953809</td>\n",
       "      <td>21:40:41</td>\n",
       "      <td>344</td>\n",
       "      <td>Monroe St &amp; Bedford Ave</td>\n",
       "      <td>0.0</td>\n",
       "      <td>0</td>\n",
       "      <td>Subscriber</td>\n",
       "      <td>40.684568</td>\n",
       "      <td>-73.958811</td>\n",
       "      <td>40.685144</td>\n",
       "      <td>-73.953809</td>\n",
       "      <td>Monroe St &amp; Bedford AveMonroe St &amp; Classon Ave</td>\n",
       "    </tr>\n",
       "    <tr>\n",
       "      <th>4</th>\n",
       "      <td>416442</td>\n",
       "      <td>0</td>\n",
       "      <td>5/12/2016</td>\n",
       "      <td>40.690649</td>\n",
       "      <td>-73.956431</td>\n",
       "      <td>21:50:37</td>\n",
       "      <td>409</td>\n",
       "      <td>DeKalb Ave &amp; Skillman St</td>\n",
       "      <td>NaN</td>\n",
       "      <td>0.0</td>\n",
       "      <td>0</td>\n",
       "      <td>5/12/2016</td>\n",
       "      <td>40.692362</td>\n",
       "      <td>-73.986317</td>\n",
       "      <td>21:41:19</td>\n",
       "      <td>323</td>\n",
       "      <td>Lawrence St &amp; Willoughby St</td>\n",
       "      <td>0.0</td>\n",
       "      <td>0</td>\n",
       "      <td>Subscriber</td>\n",
       "      <td>40.690649</td>\n",
       "      <td>-73.956431</td>\n",
       "      <td>40.692362</td>\n",
       "      <td>-73.986317</td>\n",
       "      <td>Lawrence St &amp; Willoughby StDeKalb Ave &amp; Skillm...</td>\n",
       "    </tr>\n",
       "  </tbody>\n",
       "</table>\n",
       "</div>"
      ],
      "text/plain": [
       "       id  VendorID drop_bdate  drop_blat  drop_blong drop_btime  drop_sid  \\\n",
       "0  416296         0  5/12/2016  40.686501  -73.965633   21:41:57       275   \n",
       "1  416341         0  5/12/2016  40.693261  -73.968896   21:47:34       366   \n",
       "2  416422         0  5/12/2016  40.692362  -73.986317   21:52:35       323   \n",
       "3  416424         0  5/12/2016  40.684568  -73.958811   21:43:21       289   \n",
       "4  416442         0  5/12/2016  40.690649  -73.956431   21:50:37       409   \n",
       "\n",
       "                    drop_sname  duration  fare  passenger_count pick_bdate  \\\n",
       "0  Washington Ave & Greene Ave       NaN   0.0                0  5/12/2016   \n",
       "1     Clinton Ave & Myrtle Ave       NaN   0.0                0  5/12/2016   \n",
       "2  Lawrence St & Willoughby St       NaN   0.0                0  5/12/2016   \n",
       "3      Monroe St & Classon Ave       NaN   0.0                0  5/12/2016   \n",
       "4     DeKalb Ave & Skillman St       NaN   0.0                0  5/12/2016   \n",
       "\n",
       "   pick_blat  pick_blong pick_btime  pick_sid                     pick_sname  \\\n",
       "0  40.685160  -73.977114   21:36:28      3222        Hanson Pl & St Felix St   \n",
       "1  40.688226  -73.979382   21:37:49       243        Fulton St & Rockwell Pl   \n",
       "2  40.699918  -73.989718   21:40:37       321  Cadman Plaza E & Red Cross Pl   \n",
       "3  40.685144  -73.953809   21:40:41       344        Monroe St & Bedford Ave   \n",
       "4  40.692362  -73.986317   21:41:19       323    Lawrence St & Willoughby St   \n",
       "\n",
       "   trip_dist  type   user_type          1          2          3          4  \\\n",
       "0        0.0     0  Subscriber  40.686501 -73.965633  40.685160 -73.977114   \n",
       "1        0.0     0  Subscriber  40.693261 -73.968896  40.688226 -73.979382   \n",
       "2        0.0     0  Subscriber  40.692362 -73.986317  40.699918 -73.989718   \n",
       "3        0.0     0  Subscriber  40.684568 -73.958811  40.685144 -73.953809   \n",
       "4        0.0     0  Subscriber  40.690649 -73.956431  40.692362 -73.986317   \n",
       "\n",
       "                                                trip  \n",
       "0  Hanson Pl & St Felix StWashington Ave & Greene...  \n",
       "1    Fulton St & Rockwell PlClinton Ave & Myrtle Ave  \n",
       "2  Cadman Plaza E & Red Cross PlLawrence St & Wil...  \n",
       "3     Monroe St & Bedford AveMonroe St & Classon Ave  \n",
       "4  Lawrence St & Willoughby StDeKalb Ave & Skillm...  "
      ]
     },
     "execution_count": 302,
     "metadata": {},
     "output_type": "execute_result"
    }
   ],
   "source": [
    "m1.head()"
   ]
  },
  {
   "cell_type": "code",
   "execution_count": 290,
   "metadata": {
    "collapsed": true
   },
   "outputs": [],
   "source": [
    "m1['trip']=m1['pick_sname']+m1['drop_sname']"
   ]
  },
  {
   "cell_type": "code",
   "execution_count": 294,
   "metadata": {},
   "outputs": [
    {
     "data": {
      "text/plain": [
       "cabrider      101337\n",
       "Subscriber      6031\n",
       "Customer         376\n",
       "Name: user_type, dtype: int64"
      ]
     },
     "execution_count": 294,
     "metadata": {},
     "output_type": "execute_result"
    }
   ],
   "source": [
    "m1['user_type'].value_counts()"
   ]
  },
  {
   "cell_type": "code",
   "execution_count": 293,
   "metadata": {},
   "outputs": [
    {
     "data": {
      "text/plain": [
       "1    101337\n",
       "0      6407\n",
       "Name: type, dtype: int64"
      ]
     },
     "execution_count": 293,
     "metadata": {},
     "output_type": "execute_result"
    }
   ],
   "source": [
    "m1['type'].value_counts()"
   ]
  },
  {
   "cell_type": "code",
   "execution_count": 297,
   "metadata": {},
   "outputs": [
    {
     "data": {
      "text/plain": [
       "0.00     6760\n",
       "0.90     2370\n",
       "0.80     2331\n",
       "1.00     2266\n",
       "0.70     2257\n",
       "         ... \n",
       "22.35       1\n",
       "29.12       1\n",
       "14.13       1\n",
       "23.32       1\n",
       "30.60       1\n",
       "Name: trip_dist, Length: 2365, dtype: int64"
      ]
     },
     "execution_count": 297,
     "metadata": {},
     "output_type": "execute_result"
    }
   ],
   "source": [
    "m1['trip_dist'].value_counts()"
   ]
  },
  {
   "cell_type": "code",
   "execution_count": 298,
   "metadata": {},
   "outputs": [
    {
     "data": {
      "text/plain": [
       "na                             101337\n",
       "Penn Station Valet                110\n",
       "W 42 St & Dyer Ave                102\n",
       "8 Ave & W 31 St N                  69\n",
       "Pershing Square North              66\n",
       "                                ...  \n",
       "Verona Pl & Fulton St               1\n",
       "Myrtle Ave & Marcy Ave              1\n",
       "Lafayette Ave & Classon Ave         1\n",
       "Bedford Ave & S 9 St                1\n",
       "McKibbin St & Manhattan Ave         1\n",
       "Name: pick_sname, Length: 446, dtype: int64"
      ]
     },
     "execution_count": 298,
     "metadata": {},
     "output_type": "execute_result"
    }
   ],
   "source": [
    "m1['pick_sname'].value_counts()"
   ]
  },
  {
   "cell_type": "code",
   "execution_count": 299,
   "metadata": {},
   "outputs": [
    {
     "data": {
      "text/plain": [
       "1    69320\n",
       "2    16220\n",
       "0     6409\n",
       "5     5668\n",
       "3     4603\n",
       "6     3485\n",
       "4     2038\n",
       "7        1\n",
       "Name: passenger_count, dtype: int64"
      ]
     },
     "execution_count": 299,
     "metadata": {},
     "output_type": "execute_result"
    }
   ],
   "source": [
    "m1['passenger_count'].value_counts()"
   ]
  },
  {
   "cell_type": "code",
   "execution_count": 300,
   "metadata": {},
   "outputs": [
    {
     "data": {
      "text/plain": [
       "0.00      6425\n",
       "5.50      5634\n",
       "6.00      5614\n",
       "5.00      5539\n",
       "6.50      5357\n",
       "          ... \n",
       "86.50        1\n",
       "58.34        1\n",
       "103.25       1\n",
       "242.00       1\n",
       "88.50        1\n",
       "Name: fare, Length: 267, dtype: int64"
      ]
     },
     "execution_count": 300,
     "metadata": {},
     "output_type": "execute_result"
    }
   ],
   "source": [
    "m1['fare'].value_counts()"
   ]
  },
  {
   "cell_type": "code",
   "execution_count": 277,
   "metadata": {},
   "outputs": [
    {
     "data": {
      "text/plain": [
       "<matplotlib.axes._subplots.AxesSubplot at 0x7f43e7af8748>"
      ]
     },
     "execution_count": 277,
     "metadata": {},
     "output_type": "execute_result"
    },
    {
     "data": {
      "image/png": "[encoded data removed]",
      "text/plain": [
       "<matplotlib.figure.Figure at 0x7f43e863df98>"
      ]
     },
     "metadata": {},
     "output_type": "display_data"
    }
   ],
   "source": [
    "%matplotlib inline\n",
    "\n",
    "import matplotlib\n",
    "import numpy as np\n",
    "import matplotlib.pyplot as plt\n",
    "m1['VendorID'].value_counts().plot(kind='bar')"
   ]
  },
  {
   "cell_type": "code",
   "execution_count": 319,
   "metadata": {},
   "outputs": [
    {
     "data": {
      "text/plain": [
       "<matplotlib.axes._subplots.AxesSubplot at 0x7f43e5d423c8>"
      ]
     },
     "execution_count": 319,
     "metadata": {},
     "output_type": "execute_result"
    },
    {
     "data": {
      "image/png": "[encoded data removed]",
      "text/plain": [
       "<matplotlib.figure.Figure at 0x7f43e5d3e358>"
      ]
     },
     "metadata": {},
     "output_type": "display_data"
    }
   ],
   "source": [
    "%matplotlib inline\n",
    "\n",
    "import matplotlib\n",
    "import numpy as np\n",
    "import matplotlib.pyplot as plt\n",
    "m3['VendorID'].value_counts().plot(kind='bar')"
   ]
  },
  {
   "cell_type": "code",
   "execution_count": 301,
   "metadata": {},
   "outputs": [
    {
     "data": {
      "text/plain": [
       "na                           101337\n",
       "E 47 St & Park Ave               81\n",
       "Pershing Square North            70\n",
       "E 53 St & Lexington Ave          62\n",
       "W 52 St & 5 Ave                  60\n",
       "                              ...  \n",
       "Bedford Ave & S 9 St              1\n",
       "31 St & Thomson Ave               1\n",
       "Broadway & W 24 St                1\n",
       "Marcy Ave & Lafayette Ave         1\n",
       "21 St & 41 Ave                    1\n",
       "Name: drop_sname, Length: 452, dtype: int64"
      ]
     },
     "execution_count": 301,
     "metadata": {},
     "output_type": "execute_result"
    }
   ],
   "source": [
    "m1['drop_sname'].value_counts()"
   ]
  },
  {
   "cell_type": "code",
   "execution_count": 316,
   "metadata": {},
   "outputs": [
    {
     "data": {
      "text/plain": [
       "1    130616\n",
       "0     31045\n",
       "2     28530\n",
       "5     10074\n",
       "3      7854\n",
       "6      5878\n",
       "4      3646\n",
       "9         1\n",
       "Name: passenger_count, dtype: int64"
      ]
     },
     "execution_count": 316,
     "metadata": {},
     "output_type": "execute_result"
    }
   ],
   "source": [
    "m3['trip']=m3['pick_sname']+m3['drop_sname']\n",
    "m3['passenger_count'].value_counts()"
   ]
  },
  {
   "cell_type": "code",
   "execution_count": 311,
   "metadata": {},
   "outputs": [
    {
     "data": {
      "text/plain": [
       "cabrider      186609\n",
       "Subscriber     24280\n",
       "Customer        6755\n",
       "Name: user_type, dtype: int64"
      ]
     },
     "execution_count": 311,
     "metadata": {},
     "output_type": "execute_result"
    }
   ],
   "source": [
    "m3['user_type'].value_counts()"
   ]
  },
  {
   "cell_type": "code",
   "execution_count": 312,
   "metadata": {},
   "outputs": [
    {
     "data": {
      "text/plain": [
       "1    186609\n",
       "0     31035\n",
       "Name: type, dtype: int64"
      ]
     },
     "execution_count": 312,
     "metadata": {},
     "output_type": "execute_result"
    }
   ],
   "source": [
    "m3['type'].value_counts()"
   ]
  },
  {
   "cell_type": "code",
   "execution_count": 313,
   "metadata": {},
   "outputs": [
    {
     "data": {
      "text/plain": [
       "0.00     32821\n",
       "1.00      4027\n",
       "0.90      4013\n",
       "0.80      3837\n",
       "1.10      3822\n",
       "         ...  \n",
       "24.82        1\n",
       "20.77        1\n",
       "26.00        1\n",
       "15.49        1\n",
       "36.80        1\n",
       "Name: trip_dist, Length: 2490, dtype: int64"
      ]
     },
     "execution_count": 313,
     "metadata": {},
     "output_type": "execute_result"
    }
   ],
   "source": [
    "\n",
    "m3['trip_dist'].value_counts()"
   ]
  },
  {
   "cell_type": "code",
   "execution_count": 314,
   "metadata": {},
   "outputs": [
    {
     "data": {
      "text/plain": [
       "0.0      31110\n",
       "6.0       9609\n",
       "6.5       9481\n",
       "5.5       9345\n",
       "7.0       9309\n",
       "         ...  \n",
       "145.0        1\n",
       "138.0        1\n",
       "96.5         1\n",
       "77.5         1\n",
       "103.5        1\n",
       "Name: fare, Length: 382, dtype: int64"
      ]
     },
     "execution_count": 314,
     "metadata": {},
     "output_type": "execute_result"
    }
   ],
   "source": [
    "\n",
    "m3['fare'].value_counts()"
   ]
  },
  {
   "cell_type": "code",
   "execution_count": 315,
   "metadata": {},
   "outputs": [
    {
     "data": {
      "text/plain": [
       "na                          186609\n",
       "West St & Chambers St          277\n",
       "Carmine St & 6 Ave             236\n",
       "Cleveland Pl & Spring St       231\n",
       "Central Park S & 6 Ave         226\n",
       "                             ...  \n",
       "Leonard St & Bayard St           4\n",
       "Cambridge Pl & Gates Ave         3\n",
       "21 St & 43 Ave                   3\n",
       "48 Ave & 5 St                    3\n",
       "47 Ave & 31 St                   1\n",
       "Name: pick_sname, Length: 463, dtype: int64"
      ]
     },
     "execution_count": 315,
     "metadata": {},
     "output_type": "execute_result"
    }
   ],
   "source": [
    "\n",
    "m3['pick_sname'].value_counts()"
   ]
  },
  {
   "cell_type": "code",
   "execution_count": 317,
   "metadata": {},
   "outputs": [
    {
     "data": {
      "text/plain": [
       "nana                                                                  186609\n",
       "Central Park S & 6 AveCentral Park S & 6 Ave                              49\n",
       "Central Park S & 6 Ave5 Ave & E 78 St                                     26\n",
       "Grand Army Plaza & Central Park SGrand Army Plaza & Central Park S        23\n",
       "Central Park S & 6 AveCentral Park West & W 85 St                         22\n",
       "                                                                       ...  \n",
       "South St & Gouverneur LnE 2 St & Avenue B                                  1\n",
       "East End Ave & E 86 StE 67 St & Park Ave                                   1\n",
       "W 34 St & 11 AveW 64 St & West End Ave                                     1\n",
       "W 26 St & 8 AvePike St & Monroe St                                         1\n",
       "Allen St & Hester StE 33 St & 2 Ave                                        1\n",
       "Name: trip, Length: 19182, dtype: int64"
      ]
     },
     "execution_count": 317,
     "metadata": {},
     "output_type": "execute_result"
    }
   ],
   "source": [
    "m3['trip'].value_counts()"
   ]
  },
  {
   "cell_type": "code",
   "execution_count": 318,
   "metadata": {},
   "outputs": [
    {
     "data": {
      "text/plain": [
       "0.00     32821\n",
       "1.00      4027\n",
       "0.90      4013\n",
       "0.80      3837\n",
       "1.10      3822\n",
       "         ...  \n",
       "24.82        1\n",
       "20.77        1\n",
       "26.00        1\n",
       "15.49        1\n",
       "36.80        1\n",
       "Name: trip_dist, Length: 2490, dtype: int64"
      ]
     },
     "execution_count": 318,
     "metadata": {},
     "output_type": "execute_result"
    }
   ],
   "source": [
    "\n",
    "m3['trip_dist'].value_counts()"
   ]
  },
  {
   "cell_type": "code",
   "execution_count": 320,
   "metadata": {
    "collapsed": true
   },
   "outputs": [],
   "source": [
    "m8['trip']=m8['pick_sname']+m8['drop_sname']"
   ]
  },
  {
   "cell_type": "code",
   "execution_count": 321,
   "metadata": {},
   "outputs": [
    {
     "data": {
      "text/plain": [
       "cabrider      62392\n",
       "Subscriber    13128\n",
       "Customer       2250\n",
       "Name: user_type, dtype: int64"
      ]
     },
     "execution_count": 321,
     "metadata": {},
     "output_type": "execute_result"
    }
   ],
   "source": [
    "m8['user_type'].value_counts()"
   ]
  },
  {
   "cell_type": "code",
   "execution_count": 322,
   "metadata": {},
   "outputs": [
    {
     "data": {
      "text/plain": [
       "0.00     15659\n",
       "0.80      1253\n",
       "1.00      1207\n",
       "0.90      1204\n",
       "0.70      1186\n",
       "         ...  \n",
       "15.06        1\n",
       "33.30        1\n",
       "38.25        1\n",
       "16.26        1\n",
       "22.20        1\n",
       "Name: trip_dist, Length: 2111, dtype: int64"
      ]
     },
     "execution_count": 322,
     "metadata": {},
     "output_type": "execute_result"
    }
   ],
   "source": [
    "m8['trip_dist'].value_counts()"
   ]
  },
  {
   "cell_type": "code",
   "execution_count": 323,
   "metadata": {},
   "outputs": [
    {
     "data": {
      "text/plain": [
       "0.00      15394\n",
       "6.00       3366\n",
       "5.50       3207\n",
       "6.50       3111\n",
       "5.00       3063\n",
       "          ...  \n",
       "112.00        1\n",
       "160.00        1\n",
       "76.50         1\n",
       "20.80         1\n",
       "131.75        1\n",
       "Name: fare, Length: 231, dtype: int64"
      ]
     },
     "execution_count": 323,
     "metadata": {},
     "output_type": "execute_result"
    }
   ],
   "source": [
    "m8['fare'].value_counts()"
   ]
  },
  {
   "cell_type": "code",
   "execution_count": 324,
   "metadata": {},
   "outputs": [
    {
     "data": {
      "text/plain": [
       "na                                 62392\n",
       "Pershing Square North                184\n",
       "Broadway & W 24 St                   164\n",
       "Broadway & E 22 St                   156\n",
       "E 47 St & Park Ave                   151\n",
       "                                   ...  \n",
       "Nostrand Ave & Myrtle Ave              1\n",
       "Throop Ave & Myrtle Ave                1\n",
       "Halsey St & Tompkins Ave               1\n",
       "Pulaski St & Marcus Garvey Blvd        1\n",
       "Lewis Ave & Decatur St                 1\n",
       "Name: pick_sname, Length: 456, dtype: int64"
      ]
     },
     "execution_count": 324,
     "metadata": {},
     "output_type": "execute_result"
    }
   ],
   "source": [
    "m8['pick_sname'].value_counts()"
   ]
  },
  {
   "cell_type": "code",
   "execution_count": 325,
   "metadata": {},
   "outputs": [
    {
     "data": {
      "text/plain": [
       "1    42754\n",
       "0    15382\n",
       "2     9825\n",
       "5     3445\n",
       "3     2917\n",
       "6     2076\n",
       "4     1371\n",
       "Name: passenger_count, dtype: int64"
      ]
     },
     "execution_count": 325,
     "metadata": {},
     "output_type": "execute_result"
    }
   ],
   "source": [
    "m8['passenger_count'].value_counts()"
   ]
  },
  {
   "cell_type": "code",
   "execution_count": 326,
   "metadata": {},
   "outputs": [
    {
     "data": {
      "text/plain": [
       "na                               62392\n",
       "Pershing Square North              209\n",
       "W 33 St & 7 Ave                    174\n",
       "W 41 St & 8 Ave                    166\n",
       "West St & Chambers St              132\n",
       "                                 ...  \n",
       "NYCBS Depot BAL - DYR                1\n",
       "Kosciuszko St & Tompkins Ave         1\n",
       "Park Ave & St Edwards St             1\n",
       "Putnam Ave & Throop Ave              1\n",
       "Marcus Garvey Blvd & Macon St        1\n",
       "Name: drop_sname, Length: 459, dtype: int64"
      ]
     },
     "execution_count": 326,
     "metadata": {},
     "output_type": "execute_result"
    }
   ],
   "source": [
    "m8['drop_sname'].value_counts()"
   ]
  },
  {
   "cell_type": "code",
   "execution_count": 327,
   "metadata": {},
   "outputs": [
    {
     "data": {
      "text/plain": [
       "nana                                                   62392\n",
       "Central Park S & 6 AveCentral Park S & 6 Ave              32\n",
       "E 47 St & Park AveW 41 St & 8 Ave                         20\n",
       "Centre St & Chambers StCentre St & Chambers St            13\n",
       "5 Ave & E 78 StCentral Park West & W 85 St                10\n",
       "                                                       ...  \n",
       "W 26 St & 8 AveBank St & Washington St                     1\n",
       "3 Ave & Schermerhorn StS Portland Ave & Hanson Pl          1\n",
       "Driggs Ave & N Henry StMeserole Ave & Manhattan Ave        1\n",
       "E 84 St & 1 AveE 11 St & 1 Ave                             1\n",
       "Maiden Ln & Pearl StGreenwich St & Warren St               1\n",
       "Name: trip, Length: 11238, dtype: int64"
      ]
     },
     "execution_count": 327,
     "metadata": {},
     "output_type": "execute_result"
    }
   ],
   "source": [
    "m8['trip'].value_counts()"
   ]
  },
  {
   "cell_type": "code",
   "execution_count": 329,
   "metadata": {
    "collapsed": true
   },
   "outputs": [],
   "source": [
    "\n",
    "m7['trip']=m7['pick_sname']+m7['drop_sname']"
   ]
  },
  {
   "cell_type": "code",
   "execution_count": 330,
   "metadata": {},
   "outputs": [
    {
     "data": {
      "text/plain": [
       "Subscriber    63644\n",
       "Customer       5268\n",
       "Name: user_type, dtype: int64"
      ]
     },
     "execution_count": 330,
     "metadata": {},
     "output_type": "execute_result"
    }
   ],
   "source": [
    "m7['user_type'].value_counts()"
   ]
  },
  {
   "cell_type": "code",
   "execution_count": 331,
   "metadata": {},
   "outputs": [
    {
     "data": {
      "text/plain": [
       "0.0    68912\n",
       "Name: trip_dist, dtype: int64"
      ]
     },
     "execution_count": 331,
     "metadata": {},
     "output_type": "execute_result"
    }
   ],
   "source": [
    "m7['trip_dist'].value_counts()"
   ]
  },
  {
   "cell_type": "code",
   "execution_count": 332,
   "metadata": {},
   "outputs": [
    {
     "data": {
      "text/plain": [
       "0.0    68912\n",
       "Name: fare, dtype: int64"
      ]
     },
     "execution_count": 332,
     "metadata": {},
     "output_type": "execute_result"
    }
   ],
   "source": [
    "m7['fare'].value_counts()"
   ]
  },
  {
   "cell_type": "code",
   "execution_count": 333,
   "metadata": {},
   "outputs": [
    {
     "data": {
      "text/plain": [
       "Pershing Square North              861\n",
       "Penn Station Valet                 650\n",
       "Lafayette St & E 8 St              560\n",
       "W 21 St & 6 Ave                    526\n",
       "8 Ave & W 33 St                    505\n",
       "                                  ... \n",
       "9 St & 44 Rd                         7\n",
       "Union Ave & Wallabout St             6\n",
       "Railroad Ave & Kay Ave               6\n",
       "21 St & 43 Ave                       5\n",
       "Pulaski St & Marcus Garvey Blvd      2\n",
       "Name: pick_sname, Length: 465, dtype: int64"
      ]
     },
     "execution_count": 333,
     "metadata": {},
     "output_type": "execute_result"
    }
   ],
   "source": [
    "m7['pick_sname'].value_counts()"
   ]
  },
  {
   "cell_type": "code",
   "execution_count": 334,
   "metadata": {},
   "outputs": [
    {
     "data": {
      "text/plain": [
       "0    68912\n",
       "Name: passenger_count, dtype: int64"
      ]
     },
     "execution_count": 334,
     "metadata": {},
     "output_type": "execute_result"
    }
   ],
   "source": [
    "m7['passenger_count'].value_counts()"
   ]
  },
  {
   "cell_type": "code",
   "execution_count": 335,
   "metadata": {},
   "outputs": [
    {
     "data": {
      "text/plain": [
       "Pershing Square NorthE 24 St & Park Ave S         44\n",
       "Central Park S & 6 AveCentral Park S & 6 Ave      38\n",
       "1 Ave & E 78 StE 77 St & 3 Ave                    29\n",
       "E 7 St & Avenue AShevchenko Pl & E 7 St           29\n",
       "W 26 St & 8 Ave11 Ave & W 27 St                   28\n",
       "                                                  ..\n",
       "Bond St & Fulton StLawrence St & Willoughby St     1\n",
       "E 5 St & Avenue CBarclay St & Church St            1\n",
       "Pershing Square NorthW 14 St & The High Line       1\n",
       "Railroad Ave & Kay AveDean St & 4 Ave              1\n",
       "5 Ave & E 29 St9 Ave & W 45 St                     1\n",
       "Name: trip, Length: 33537, dtype: int64"
      ]
     },
     "execution_count": 335,
     "metadata": {},
     "output_type": "execute_result"
    }
   ],
   "source": [
    "m7['trip'].value_counts()"
   ]
  },
  {
   "cell_type": "code",
   "execution_count": 337,
   "metadata": {
    "collapsed": true
   },
   "outputs": [],
   "source": [
    "m6['trip']=m6['pick_sname']+m6['drop_sname']"
   ]
  },
  {
   "cell_type": "code",
   "execution_count": 338,
   "metadata": {},
   "outputs": [
    {
     "data": {
      "text/plain": [
       "Subscriber    76819\n",
       "cabrider      60976\n",
       "Customer      15834\n",
       "Name: user_type, dtype: int64"
      ]
     },
     "execution_count": 338,
     "metadata": {},
     "output_type": "execute_result"
    }
   ],
   "source": [
    "m6['user_type'].value_counts()"
   ]
  },
  {
   "cell_type": "code",
   "execution_count": 339,
   "metadata": {},
   "outputs": [
    {
     "data": {
      "text/plain": [
       "0.00     92950\n",
       "1.00      1144\n",
       "0.90      1132\n",
       "1.20      1095\n",
       "1.10      1044\n",
       "         ...  \n",
       "42.57        1\n",
       "26.40        1\n",
       "12.59        1\n",
       "15.06        1\n",
       "7.95         1\n",
       "Name: trip_dist, Length: 1908, dtype: int64"
      ]
     },
     "execution_count": 339,
     "metadata": {},
     "output_type": "execute_result"
    }
   ],
   "source": [
    "m6['trip_dist'].value_counts()"
   ]
  },
  {
   "cell_type": "code",
   "execution_count": 340,
   "metadata": {},
   "outputs": [
    {
     "data": {
      "text/plain": [
       "0.0      92690\n",
       "6.0       2965\n",
       "6.5       2816\n",
       "5.5       2809\n",
       "7.0       2769\n",
       "         ...  \n",
       "125.0        1\n",
       "189.0        1\n",
       "73.5         1\n",
       "88.5         1\n",
       "77.0         1\n",
       "Name: fare, Length: 220, dtype: int64"
      ]
     },
     "execution_count": 340,
     "metadata": {},
     "output_type": "execute_result"
    }
   ],
   "source": [
    "\n",
    "m6['fare'].value_counts()"
   ]
  },
  {
   "cell_type": "code",
   "execution_count": 341,
   "metadata": {},
   "outputs": [
    {
     "data": {
      "text/plain": [
       "na                                 60976\n",
       "West St & Chambers St                849\n",
       "Pershing Square North                809\n",
       "W 21 St & 6 Ave                      709\n",
       "E 17 St & Broadway                   702\n",
       "                                   ...  \n",
       "Leonard St & Meeker Ave               12\n",
       "31 St & Thomson Ave                   10\n",
       "Throop Ave & Myrtle Ave                9\n",
       "Pulaski St & Marcus Garvey Blvd        7\n",
       "Railroad Ave & Kay Ave                 4\n",
       "Name: pick_sname, Length: 466, dtype: int64"
      ]
     },
     "execution_count": 341,
     "metadata": {},
     "output_type": "execute_result"
    }
   ],
   "source": [
    "\n",
    "m6['pick_sname'].value_counts()"
   ]
  },
  {
   "cell_type": "code",
   "execution_count": 342,
   "metadata": {},
   "outputs": [
    {
     "data": {
      "text/plain": [
       "nana                                                 60976\n",
       "Central Park S & 6 AveCentral Park S & 6 Ave           107\n",
       "Central Park S & 6 Ave5 Ave & E 78 St                   61\n",
       "Central Park S & 6 AveCentral Park West & W 85 St       58\n",
       "12 Ave & W 40 StWest St & Chambers St                   57\n",
       "                                                     ...  \n",
       "W 64 St & West End Ave21 St & 41 Ave                     1\n",
       "1 Ave & E 30 StE 10 St & 5 Ave                           1\n",
       "11 Ave & W 27 StE 48 St & 5 Ave                          1\n",
       "5 Ave & E 29 StW 70 St & Amsterdam Ave                   1\n",
       "Johnson St & Gold StAtlantic Ave & Furman St             1\n",
       "Name: trip, Length: 39937, dtype: int64"
      ]
     },
     "execution_count": 342,
     "metadata": {},
     "output_type": "execute_result"
    }
   ],
   "source": [
    "m6['trip'].value_counts()"
   ]
  },
  {
   "cell_type": "code",
   "execution_count": 343,
   "metadata": {
    "collapsed": true
   },
   "outputs": [],
   "source": [
    "\n",
    "m9['trip']=m9['pick_sname']+m9['drop_sname']"
   ]
  },
  {
   "cell_type": "code",
   "execution_count": 344,
   "metadata": {},
   "outputs": [
    {
     "data": {
      "text/plain": [
       "Subscriber    48075\n",
       "cabrider      27240\n",
       "Customer       6430\n",
       "Name: user_type, dtype: int64"
      ]
     },
     "execution_count": 344,
     "metadata": {},
     "output_type": "execute_result"
    }
   ],
   "source": [
    "m9['user_type'].value_counts()"
   ]
  },
  {
   "cell_type": "code",
   "execution_count": 345,
   "metadata": {},
   "outputs": [
    {
     "data": {
      "text/plain": [
       "0.00     54636\n",
       "0.70       458\n",
       "1.10       429\n",
       "1.00       429\n",
       "0.90       425\n",
       "         ...  \n",
       "9.94         1\n",
       "13.55        1\n",
       "9.08         1\n",
       "11.22        1\n",
       "15.71        1\n",
       "Name: trip_dist, Length: 1454, dtype: int64"
      ]
     },
     "execution_count": 345,
     "metadata": {},
     "output_type": "execute_result"
    }
   ],
   "source": [
    "m9['trip_dist'].value_counts()"
   ]
  },
  {
   "cell_type": "code",
   "execution_count": 348,
   "metadata": {},
   "outputs": [
    {
     "data": {
      "text/plain": [
       "<matplotlib.axes._subplots.AxesSubplot at 0x7f43e70f82e8>"
      ]
     },
     "execution_count": 348,
     "metadata": {},
     "output_type": "execute_result"
    },
    {
     "data": {
      "image/png": "[encoded data removed]",
      "text/plain": [
       "<matplotlib.figure.Figure at 0x7f43e70f7630>"
      ]
     },
     "metadata": {},
     "output_type": "display_data"
    }
   ],
   "source": [
    "\n",
    "%matplotlib inline\n",
    "\n",
    "import matplotlib\n",
    "import numpy as np\n",
    "import matplotlib.pyplot as plt\n",
    "m9['VendorID'].value_counts().plot(kind='bar')"
   ]
  },
  {
   "cell_type": "code",
   "execution_count": 346,
   "metadata": {},
   "outputs": [
    {
     "data": {
      "text/plain": [
       "na                                 27240\n",
       "Pershing Square North                662\n",
       "West St & Chambers St                500\n",
       "Lafayette St & E 8 St                447\n",
       "Broadway & E 22 St                   429\n",
       "                                   ...  \n",
       "Pulaski St & Marcus Garvey Blvd        5\n",
       "W 84 St & Columbus Ave                 5\n",
       "Railroad Ave & Kay Ave                 4\n",
       "Kosciuszko St & Nostrand Ave           3\n",
       "Throop Ave & Myrtle Ave                2\n",
       "Name: pick_sname, Length: 464, dtype: int64"
      ]
     },
     "execution_count": 346,
     "metadata": {},
     "output_type": "execute_result"
    }
   ],
   "source": [
    "\n",
    "m9['pick_sname'].value_counts()"
   ]
  },
  {
   "cell_type": "code",
   "execution_count": 347,
   "metadata": {},
   "outputs": [
    {
     "data": {
      "text/plain": [
       "nana                                                          27240\n",
       "Central Park S & 6 AveCentral Park S & 6 Ave                     50\n",
       "Brooklyn Bridge Park - Pier 2Brooklyn Bridge Park - Pier 2       28\n",
       "12 Ave & W 40 StWest St & Chambers St                            28\n",
       "Pershing Square NorthW 33 St & 7 Ave                             24\n",
       "                                                              ...  \n",
       "Clinton St & Grand StHoward St & Centre St                        1\n",
       "Watts St & Greenwich StChristopher St & Greenwich St              1\n",
       "Central Park West & W 76 StE 56 St & Madison Ave                  1\n",
       "E 16 St & 5 AveW 52 St & 5 Ave                                    1\n",
       "St James Pl & Pearl StWilliam St & Pine St                        1\n",
       "Name: trip, Length: 30001, dtype: int64"
      ]
     },
     "execution_count": 347,
     "metadata": {},
     "output_type": "execute_result"
    }
   ],
   "source": [
    "m9['trip'].value_counts()"
   ]
  },
  {
   "cell_type": "code",
   "execution_count": 349,
   "metadata": {
    "collapsed": true
   },
   "outputs": [],
   "source": [
    "m10['trip']=m10['pick_sname']+m10['drop_sname']"
   ]
  },
  {
   "cell_type": "code",
   "execution_count": 350,
   "metadata": {},
   "outputs": [
    {
     "data": {
      "text/plain": [
       "cabrider      215047\n",
       "Subscriber         1\n",
       "Name: user_type, dtype: int64"
      ]
     },
     "execution_count": 350,
     "metadata": {},
     "output_type": "execute_result"
    }
   ],
   "source": [
    "m10['user_type'].value_counts()"
   ]
  },
  {
   "cell_type": "code",
   "execution_count": 351,
   "metadata": {},
   "outputs": [
    {
     "data": {
      "text/plain": [
       "<matplotlib.axes._subplots.AxesSubplot at 0x7f43d1ff0400>"
      ]
     },
     "execution_count": 351,
     "metadata": {},
     "output_type": "execute_result"
    },
    {
     "data": {
      "image/png": "[encoded data removed]",
      "text/plain": [
       "<matplotlib.figure.Figure at 0x7f43d1fefa58>"
      ]
     },
     "metadata": {},
     "output_type": "display_data"
    }
   ],
   "source": [
    "\n",
    "%matplotlib inline\n",
    "\n",
    "import matplotlib\n",
    "import numpy as np\n",
    "import matplotlib.pyplot as plt\n",
    "m10['VendorID'].value_counts().plot(kind='bar')"
   ]
  },
  {
   "cell_type": "code",
   "execution_count": 352,
   "metadata": {
    "collapsed": true
   },
   "outputs": [],
   "source": [
    "\n",
    "m4['trip']=m4['pick_sname']+m4['drop_sname']"
   ]
  },
  {
   "cell_type": "code",
   "execution_count": 353,
   "metadata": {},
   "outputs": [
    {
     "data": {
      "text/plain": [
       "Subscriber    77163\n",
       "Customer      14054\n",
       "Name: user_type, dtype: int64"
      ]
     },
     "execution_count": 353,
     "metadata": {},
     "output_type": "execute_result"
    }
   ],
   "source": [
    "m4['user_type'].value_counts()"
   ]
  },
  {
   "cell_type": "code",
   "execution_count": 354,
   "metadata": {},
   "outputs": [
    {
     "data": {
      "text/plain": [
       "Pershing Square North                             810\n",
       "West St & Chambers St                             801\n",
       "E 17 St & Broadway                                772\n",
       "Lafayette St & E 8 St                             720\n",
       "Broadway & E 22 St                                691\n",
       "                                                 ... \n",
       "3969.TEMP (Bike The Branches - Central Branch)      9\n",
       "31 St & Thomson Ave                                 7\n",
       "Marcy Ave & Lafayette Ave                           6\n",
       "Railroad Ave & Kay Ave                              2\n",
       "Yankee Ferry Terminal                               2\n",
       "Name: pick_sname, Length: 469, dtype: int64"
      ]
     },
     "execution_count": 354,
     "metadata": {},
     "output_type": "execute_result"
    }
   ],
   "source": [
    "\n",
    "m4['pick_sname'].value_counts()"
   ]
  },
  {
   "cell_type": "code",
   "execution_count": 355,
   "metadata": {},
   "outputs": [
    {
     "data": {
      "text/plain": [
       "Central Park S & 6 AveCentral Park S & 6 Ave          119\n",
       "Central Park S & 6 Ave5 Ave & E 78 St                  90\n",
       "Old Fulton StCentre St & Chambers St                   47\n",
       "Central Park S & 6 Ave5 Ave & E 73 St                  45\n",
       "5 Ave & E 73 St5 Ave & E 73 St                         45\n",
       "                                                     ... \n",
       "Graham Ave & Conselyea StLorimer St & Broadway          1\n",
       "Greene Ave & Nostrand AvePutnam Ave & Nostrand Ave      1\n",
       "E 2 St & Avenue CBialystoker Pl & Delancey St           1\n",
       "Vesey Pl & River TerraceW 37 St & 10 Ave                1\n",
       "5 Ave & E 29 St9 Ave & W 45 St                          1\n",
       "Name: trip, Length: 38368, dtype: int64"
      ]
     },
     "execution_count": 355,
     "metadata": {},
     "output_type": "execute_result"
    }
   ],
   "source": [
    "\n",
    "m4['trip'].value_counts()"
   ]
  },
  {
   "cell_type": "markdown",
   "metadata": {},
   "source": [
    "conclusion: \n",
    "    \n",
    "    cluster properties are as follows:\n",
    "\n",
    "c1\n",
    "\n",
    "cab riders\n",
    "use cabs\n",
    "trip dist below 2\n",
    "most pick ups penn stat w42 st dyer ave\n",
    "no of passengers 1 most\n",
    "vendors id 2\n",
    "drop sname e 47 st park ave\n",
    "\n",
    "\n",
    "c3\n",
    "\n",
    "passenger counts are mostly 1\n",
    "\n",
    "most are cab riders\n",
    "\n",
    "mostlycab\n",
    "\n",
    "fare for the rides are 5.5 to 7\n",
    "\n",
    "pick up stations are west st chambers st and carmine st & 6 ave\n",
    "\n",
    "trip are from central park s and 6 ave central park, central park to ave5 ave & e 78st\n",
    "\n",
    "trip dist are mostsly 0 to 1.10 miles\n",
    "\n",
    "c8\n",
    "\n",
    "more subsribers\n",
    "\n",
    "dist are 0.7 to 1\n",
    "\n",
    "fare are 5 to 6.5\n",
    "\n",
    "pick ups at perishing square north\n",
    "\n",
    "trips are central park s and 6 ave central park s & 6 ave\n",
    "\n",
    "c7\n",
    "\n",
    "\n",
    "trips are perishing sq ne24 st & park ave s\n",
    "\n",
    "perishing sq north most pick ups\n",
    "\n",
    "c6\n",
    "\n",
    "trips are Central Park S & 6 AveCentral Park S & 6 Ave  \n",
    "\n",
    "pick up points are    West St & Chambers St \n",
    "\n",
    "users are subsribers\n",
    "\n",
    "\n",
    "c9\n",
    "\n",
    "trips are Central Park S & 6 AveCentral Park S & 6 Ave \n",
    "\n",
    "pick ups are Pershing Square North    \n",
    "\n",
    "good share of subsribers and cab riders\n",
    "\n",
    "c10\n",
    "\n",
    "only cab riders\n",
    "\n",
    "c4\n",
    "\n",
    "mostly subsribers\n",
    "\n",
    "pershing sq north\n",
    "\n",
    "central park s & 6 ave central"
   ]
  }
 ],
 "metadata": {
  "kernelspec": {
   "display_name": "Python 3",
   "language": "python",
   "name": "python3"
  },
  "language_info": {
   "codemirror_mode": {
    "name": "ipython",
    "version": 3
   },
   "file_extension": ".py",
   "mimetype": "text/x-python",
   "name": "python",
   "nbconvert_exporter": "python",
   "pygments_lexer": "ipython3",
   "version": "3.5.2"
  }
 },
 "nbformat": 4,
 "nbformat_minor": 2
}
